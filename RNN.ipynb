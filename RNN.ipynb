{
 "cells": [
  {
   "cell_type": "code",
   "execution_count": 1,
   "id": "3272a5e1",
   "metadata": {},
   "outputs": [],
   "source": [
    "import pandas as pd\n",
    "import numpy as np"
   ]
  },
  {
   "cell_type": "code",
   "execution_count": 2,
   "id": "f23a8400",
   "metadata": {},
   "outputs": [],
   "source": [
    "df=pd.read_excel('spam.xlsx')"
   ]
  },
  {
   "cell_type": "code",
   "execution_count": 3,
   "id": "fc86e7c3",
   "metadata": {},
   "outputs": [
    {
     "data": {
      "text/html": [
       "<div>\n",
       "<style scoped>\n",
       "    .dataframe tbody tr th:only-of-type {\n",
       "        vertical-align: middle;\n",
       "    }\n",
       "\n",
       "    .dataframe tbody tr th {\n",
       "        vertical-align: top;\n",
       "    }\n",
       "\n",
       "    .dataframe thead th {\n",
       "        text-align: right;\n",
       "    }\n",
       "</style>\n",
       "<table border=\"1\" class=\"dataframe\">\n",
       "  <thead>\n",
       "    <tr style=\"text-align: right;\">\n",
       "      <th></th>\n",
       "      <th>v1</th>\n",
       "      <th>v2</th>\n",
       "      <th>Unnamed: 2</th>\n",
       "      <th>Unnamed: 3</th>\n",
       "      <th>Unnamed: 4</th>\n",
       "      <th>Unnamed: 5</th>\n",
       "      <th>Unnamed: 6</th>\n",
       "      <th>Unnamed: 7</th>\n",
       "      <th>Unnamed: 8</th>\n",
       "      <th>Unnamed: 9</th>\n",
       "    </tr>\n",
       "  </thead>\n",
       "  <tbody>\n",
       "    <tr>\n",
       "      <th>0</th>\n",
       "      <td>ham</td>\n",
       "      <td>Go until jurong point, crazy.. Available only ...</td>\n",
       "      <td>NaN</td>\n",
       "      <td>NaN</td>\n",
       "      <td>NaN</td>\n",
       "      <td>NaN</td>\n",
       "      <td>NaN</td>\n",
       "      <td>NaN</td>\n",
       "      <td>NaN</td>\n",
       "      <td>NaN</td>\n",
       "    </tr>\n",
       "    <tr>\n",
       "      <th>1</th>\n",
       "      <td>ham</td>\n",
       "      <td>Ok lar... Joking wif u oni...</td>\n",
       "      <td>NaN</td>\n",
       "      <td>NaN</td>\n",
       "      <td>NaN</td>\n",
       "      <td>NaN</td>\n",
       "      <td>NaN</td>\n",
       "      <td>NaN</td>\n",
       "      <td>NaN</td>\n",
       "      <td>NaN</td>\n",
       "    </tr>\n",
       "    <tr>\n",
       "      <th>2</th>\n",
       "      <td>spam</td>\n",
       "      <td>Free entry in 2 a wkly comp to win FA Cup fina...</td>\n",
       "      <td>NaN</td>\n",
       "      <td>NaN</td>\n",
       "      <td>NaN</td>\n",
       "      <td>NaN</td>\n",
       "      <td>NaN</td>\n",
       "      <td>NaN</td>\n",
       "      <td>NaN</td>\n",
       "      <td>NaN</td>\n",
       "    </tr>\n",
       "    <tr>\n",
       "      <th>3</th>\n",
       "      <td>ham</td>\n",
       "      <td>U dun say so early hor... U c already then say...</td>\n",
       "      <td>NaN</td>\n",
       "      <td>NaN</td>\n",
       "      <td>NaN</td>\n",
       "      <td>NaN</td>\n",
       "      <td>NaN</td>\n",
       "      <td>NaN</td>\n",
       "      <td>NaN</td>\n",
       "      <td>NaN</td>\n",
       "    </tr>\n",
       "    <tr>\n",
       "      <th>4</th>\n",
       "      <td>ham</td>\n",
       "      <td>Nah I don't think he goes to usf, he lives aro...</td>\n",
       "      <td>NaN</td>\n",
       "      <td>NaN</td>\n",
       "      <td>NaN</td>\n",
       "      <td>NaN</td>\n",
       "      <td>NaN</td>\n",
       "      <td>NaN</td>\n",
       "      <td>NaN</td>\n",
       "      <td>NaN</td>\n",
       "    </tr>\n",
       "  </tbody>\n",
       "</table>\n",
       "</div>"
      ],
      "text/plain": [
       "     v1                                                 v2 Unnamed: 2  \\\n",
       "0   ham  Go until jurong point, crazy.. Available only ...        NaN   \n",
       "1   ham                      Ok lar... Joking wif u oni...        NaN   \n",
       "2  spam  Free entry in 2 a wkly comp to win FA Cup fina...        NaN   \n",
       "3   ham  U dun say so early hor... U c already then say...        NaN   \n",
       "4   ham  Nah I don't think he goes to usf, he lives aro...        NaN   \n",
       "\n",
       "  Unnamed: 3 Unnamed: 4 Unnamed: 5 Unnamed: 6 Unnamed: 7 Unnamed: 8 Unnamed: 9  \n",
       "0        NaN        NaN        NaN        NaN        NaN        NaN        NaN  \n",
       "1        NaN        NaN        NaN        NaN        NaN        NaN        NaN  \n",
       "2        NaN        NaN        NaN        NaN        NaN        NaN        NaN  \n",
       "3        NaN        NaN        NaN        NaN        NaN        NaN        NaN  \n",
       "4        NaN        NaN        NaN        NaN        NaN        NaN        NaN  "
      ]
     },
     "execution_count": 3,
     "metadata": {},
     "output_type": "execute_result"
    }
   ],
   "source": [
    "df.head()"
   ]
  },
  {
   "cell_type": "code",
   "execution_count": 4,
   "id": "9e87f7c4",
   "metadata": {},
   "outputs": [
    {
     "data": {
      "text/plain": [
       "(5407, 10)"
      ]
     },
     "execution_count": 4,
     "metadata": {},
     "output_type": "execute_result"
    }
   ],
   "source": [
    "df.shape"
   ]
  },
  {
   "cell_type": "raw",
   "id": "b65f91db",
   "metadata": {},
   "source": [
    "# 1. Data cleaning\n",
    "# 2. EDA\n",
    "# 3. Text Preprocessing\n",
    "# 4. Model building\n",
    "# 5. Evaluation\n",
    "# 6. Improvement\n",
    "# 7. Website\n",
    "# 8. Deploy"
   ]
  },
  {
   "cell_type": "code",
   "execution_count": 5,
   "id": "6cc92417",
   "metadata": {},
   "outputs": [
    {
     "name": "stdout",
     "output_type": "stream",
     "text": [
      "<class 'pandas.core.frame.DataFrame'>\n",
      "RangeIndex: 5407 entries, 0 to 5406\n",
      "Data columns (total 10 columns):\n",
      " #   Column      Non-Null Count  Dtype \n",
      "---  ------      --------------  ----- \n",
      " 0   v1          5407 non-null   object\n",
      " 1   v2          5407 non-null   object\n",
      " 2   Unnamed: 2  76 non-null     object\n",
      " 3   Unnamed: 3  31 non-null     object\n",
      " 4   Unnamed: 4  17 non-null     object\n",
      " 5   Unnamed: 5  5 non-null      object\n",
      " 6   Unnamed: 6  2 non-null      object\n",
      " 7   Unnamed: 7  2 non-null      object\n",
      " 8   Unnamed: 8  1 non-null      object\n",
      " 9   Unnamed: 9  1 non-null      object\n",
      "dtypes: object(10)\n",
      "memory usage: 422.6+ KB\n"
     ]
    }
   ],
   "source": [
    "df.info()"
   ]
  },
  {
   "cell_type": "code",
   "execution_count": 6,
   "id": "044e029d",
   "metadata": {},
   "outputs": [],
   "source": [
    "# drop last 3 cols\n",
    "df.drop(columns=['Unnamed: 2','Unnamed: 3','Unnamed: 4','Unnamed: 5','Unnamed: 6','Unnamed: 7','Unnamed: 8','Unnamed: 9'],inplace=True)"
   ]
  },
  {
   "cell_type": "code",
   "execution_count": 7,
   "id": "baf32c94",
   "metadata": {},
   "outputs": [
    {
     "data": {
      "text/html": [
       "<div>\n",
       "<style scoped>\n",
       "    .dataframe tbody tr th:only-of-type {\n",
       "        vertical-align: middle;\n",
       "    }\n",
       "\n",
       "    .dataframe tbody tr th {\n",
       "        vertical-align: top;\n",
       "    }\n",
       "\n",
       "    .dataframe thead th {\n",
       "        text-align: right;\n",
       "    }\n",
       "</style>\n",
       "<table border=\"1\" class=\"dataframe\">\n",
       "  <thead>\n",
       "    <tr style=\"text-align: right;\">\n",
       "      <th></th>\n",
       "      <th>v1</th>\n",
       "      <th>v2</th>\n",
       "    </tr>\n",
       "  </thead>\n",
       "  <tbody>\n",
       "    <tr>\n",
       "      <th>0</th>\n",
       "      <td>ham</td>\n",
       "      <td>Go until jurong point, crazy.. Available only ...</td>\n",
       "    </tr>\n",
       "    <tr>\n",
       "      <th>1</th>\n",
       "      <td>ham</td>\n",
       "      <td>Ok lar... Joking wif u oni...</td>\n",
       "    </tr>\n",
       "    <tr>\n",
       "      <th>2</th>\n",
       "      <td>spam</td>\n",
       "      <td>Free entry in 2 a wkly comp to win FA Cup fina...</td>\n",
       "    </tr>\n",
       "    <tr>\n",
       "      <th>3</th>\n",
       "      <td>ham</td>\n",
       "      <td>U dun say so early hor... U c already then say...</td>\n",
       "    </tr>\n",
       "    <tr>\n",
       "      <th>4</th>\n",
       "      <td>ham</td>\n",
       "      <td>Nah I don't think he goes to usf, he lives aro...</td>\n",
       "    </tr>\n",
       "    <tr>\n",
       "      <th>...</th>\n",
       "      <td>...</td>\n",
       "      <td>...</td>\n",
       "    </tr>\n",
       "    <tr>\n",
       "      <th>5402</th>\n",
       "      <td>spam</td>\n",
       "      <td>False</td>\n",
       "    </tr>\n",
       "    <tr>\n",
       "      <th>5403</th>\n",
       "      <td>ham</td>\n",
       "      <td>False</td>\n",
       "    </tr>\n",
       "    <tr>\n",
       "      <th>5404</th>\n",
       "      <td>ham</td>\n",
       "      <td>Pity, * was in mood for that. So...any other s...</td>\n",
       "    </tr>\n",
       "    <tr>\n",
       "      <th>5405</th>\n",
       "      <td>ham</td>\n",
       "      <td>The guy did some bitching but I acted like i'd...</td>\n",
       "    </tr>\n",
       "    <tr>\n",
       "      <th>5406</th>\n",
       "      <td>ham</td>\n",
       "      <td>Rofl. Its true to its name</td>\n",
       "    </tr>\n",
       "  </tbody>\n",
       "</table>\n",
       "<p>5407 rows × 2 columns</p>\n",
       "</div>"
      ],
      "text/plain": [
       "        v1                                                 v2\n",
       "0      ham  Go until jurong point, crazy.. Available only ...\n",
       "1      ham                      Ok lar... Joking wif u oni...\n",
       "2     spam  Free entry in 2 a wkly comp to win FA Cup fina...\n",
       "3      ham  U dun say so early hor... U c already then say...\n",
       "4      ham  Nah I don't think he goes to usf, he lives aro...\n",
       "...    ...                                                ...\n",
       "5402  spam                                              False\n",
       "5403   ham                                              False\n",
       "5404   ham  Pity, * was in mood for that. So...any other s...\n",
       "5405   ham  The guy did some bitching but I acted like i'd...\n",
       "5406   ham                         Rofl. Its true to its name\n",
       "\n",
       "[5407 rows x 2 columns]"
      ]
     },
     "execution_count": 7,
     "metadata": {},
     "output_type": "execute_result"
    }
   ],
   "source": [
    "df"
   ]
  },
  {
   "cell_type": "code",
   "execution_count": 8,
   "id": "47a4e423",
   "metadata": {},
   "outputs": [
    {
     "data": {
      "text/html": [
       "<div>\n",
       "<style scoped>\n",
       "    .dataframe tbody tr th:only-of-type {\n",
       "        vertical-align: middle;\n",
       "    }\n",
       "\n",
       "    .dataframe tbody tr th {\n",
       "        vertical-align: top;\n",
       "    }\n",
       "\n",
       "    .dataframe thead th {\n",
       "        text-align: right;\n",
       "    }\n",
       "</style>\n",
       "<table border=\"1\" class=\"dataframe\">\n",
       "  <thead>\n",
       "    <tr style=\"text-align: right;\">\n",
       "      <th></th>\n",
       "      <th>target</th>\n",
       "      <th>text</th>\n",
       "    </tr>\n",
       "  </thead>\n",
       "  <tbody>\n",
       "    <tr>\n",
       "      <th>195</th>\n",
       "      <td>ham</td>\n",
       "      <td>Gud mrng dear hav a nice day</td>\n",
       "    </tr>\n",
       "    <tr>\n",
       "      <th>4352</th>\n",
       "      <td>ham</td>\n",
       "      <td>Ranjith cal drpd Deeraj and deepak 5min hold</td>\n",
       "    </tr>\n",
       "    <tr>\n",
       "      <th>3768</th>\n",
       "      <td>ham</td>\n",
       "      <td>I am joining today formally.Pls keep praying.w...</td>\n",
       "    </tr>\n",
       "    <tr>\n",
       "      <th>3660</th>\n",
       "      <td>ham</td>\n",
       "      <td>K.i will send in  &amp;lt;#&amp;gt;  min:)</td>\n",
       "    </tr>\n",
       "    <tr>\n",
       "      <th>3730</th>\n",
       "      <td>ham</td>\n",
       "      <td>Watching tv lor. Nice one then i like lor.</td>\n",
       "    </tr>\n",
       "  </tbody>\n",
       "</table>\n",
       "</div>"
      ],
      "text/plain": [
       "     target                                               text\n",
       "195     ham                       Gud mrng dear hav a nice day\n",
       "4352    ham       Ranjith cal drpd Deeraj and deepak 5min hold\n",
       "3768    ham  I am joining today formally.Pls keep praying.w...\n",
       "3660    ham                 K.i will send in  &lt;#&gt;  min:)\n",
       "3730    ham         Watching tv lor. Nice one then i like lor."
      ]
     },
     "execution_count": 8,
     "metadata": {},
     "output_type": "execute_result"
    }
   ],
   "source": [
    "# renaming the cols\n",
    "df.rename(columns={'v1':'target','v2':'text'},inplace=True)\n",
    "df.sample(5)"
   ]
  },
  {
   "cell_type": "code",
   "execution_count": 9,
   "id": "d8abd590",
   "metadata": {},
   "outputs": [
    {
     "data": {
      "text/plain": [
       "target    0\n",
       "text      0\n",
       "dtype: int64"
      ]
     },
     "execution_count": 9,
     "metadata": {},
     "output_type": "execute_result"
    }
   ],
   "source": [
    "# missing values\n",
    "df.isnull().sum()"
   ]
  },
  {
   "cell_type": "code",
   "execution_count": 10,
   "id": "c29eaaf4",
   "metadata": {},
   "outputs": [
    {
     "data": {
      "text/plain": [
       "809"
      ]
     },
     "execution_count": 10,
     "metadata": {},
     "output_type": "execute_result"
    }
   ],
   "source": [
    "# check for duplicate values\n",
    "df.duplicated().sum()"
   ]
  },
  {
   "cell_type": "code",
   "execution_count": 11,
   "id": "2b4eea65",
   "metadata": {},
   "outputs": [],
   "source": [
    "df=df.drop_duplicates(keep='first')"
   ]
  },
  {
   "cell_type": "code",
   "execution_count": 12,
   "id": "04659309",
   "metadata": {},
   "outputs": [
    {
     "data": {
      "text/html": [
       "<div>\n",
       "<style scoped>\n",
       "    .dataframe tbody tr th:only-of-type {\n",
       "        vertical-align: middle;\n",
       "    }\n",
       "\n",
       "    .dataframe tbody tr th {\n",
       "        vertical-align: top;\n",
       "    }\n",
       "\n",
       "    .dataframe thead th {\n",
       "        text-align: right;\n",
       "    }\n",
       "</style>\n",
       "<table border=\"1\" class=\"dataframe\">\n",
       "  <thead>\n",
       "    <tr style=\"text-align: right;\">\n",
       "      <th></th>\n",
       "      <th>target</th>\n",
       "      <th>text</th>\n",
       "    </tr>\n",
       "  </thead>\n",
       "  <tbody>\n",
       "    <tr>\n",
       "      <th>0</th>\n",
       "      <td>ham</td>\n",
       "      <td>Go until jurong point, crazy.. Available only ...</td>\n",
       "    </tr>\n",
       "    <tr>\n",
       "      <th>1</th>\n",
       "      <td>ham</td>\n",
       "      <td>Ok lar... Joking wif u oni...</td>\n",
       "    </tr>\n",
       "    <tr>\n",
       "      <th>2</th>\n",
       "      <td>spam</td>\n",
       "      <td>Free entry in 2 a wkly comp to win FA Cup fina...</td>\n",
       "    </tr>\n",
       "    <tr>\n",
       "      <th>3</th>\n",
       "      <td>ham</td>\n",
       "      <td>U dun say so early hor... U c already then say...</td>\n",
       "    </tr>\n",
       "    <tr>\n",
       "      <th>4</th>\n",
       "      <td>ham</td>\n",
       "      <td>Nah I don't think he goes to usf, he lives aro...</td>\n",
       "    </tr>\n",
       "    <tr>\n",
       "      <th>...</th>\n",
       "      <td>...</td>\n",
       "      <td>...</td>\n",
       "    </tr>\n",
       "    <tr>\n",
       "      <th>5400</th>\n",
       "      <td>ham</td>\n",
       "      <td>Huh y lei...</td>\n",
       "    </tr>\n",
       "    <tr>\n",
       "      <th>5401</th>\n",
       "      <td>spam</td>\n",
       "      <td>REMINDER FROM O2: To get 2.50 pounds free call...</td>\n",
       "    </tr>\n",
       "    <tr>\n",
       "      <th>5404</th>\n",
       "      <td>ham</td>\n",
       "      <td>Pity, * was in mood for that. So...any other s...</td>\n",
       "    </tr>\n",
       "    <tr>\n",
       "      <th>5405</th>\n",
       "      <td>ham</td>\n",
       "      <td>The guy did some bitching but I acted like i'd...</td>\n",
       "    </tr>\n",
       "    <tr>\n",
       "      <th>5406</th>\n",
       "      <td>ham</td>\n",
       "      <td>Rofl. Its true to its name</td>\n",
       "    </tr>\n",
       "  </tbody>\n",
       "</table>\n",
       "<p>4598 rows × 2 columns</p>\n",
       "</div>"
      ],
      "text/plain": [
       "     target                                               text\n",
       "0       ham  Go until jurong point, crazy.. Available only ...\n",
       "1       ham                      Ok lar... Joking wif u oni...\n",
       "2      spam  Free entry in 2 a wkly comp to win FA Cup fina...\n",
       "3       ham  U dun say so early hor... U c already then say...\n",
       "4       ham  Nah I don't think he goes to usf, he lives aro...\n",
       "...     ...                                                ...\n",
       "5400    ham                                       Huh y lei...\n",
       "5401   spam  REMINDER FROM O2: To get 2.50 pounds free call...\n",
       "5404    ham  Pity, * was in mood for that. So...any other s...\n",
       "5405    ham  The guy did some bitching but I acted like i'd...\n",
       "5406    ham                         Rofl. Its true to its name\n",
       "\n",
       "[4598 rows x 2 columns]"
      ]
     },
     "execution_count": 12,
     "metadata": {},
     "output_type": "execute_result"
    }
   ],
   "source": [
    "df"
   ]
  },
  {
   "cell_type": "code",
   "execution_count": 13,
   "id": "bf2b53a2",
   "metadata": {},
   "outputs": [
    {
     "data": {
      "text/plain": [
       "(4598, 2)"
      ]
     },
     "execution_count": 13,
     "metadata": {},
     "output_type": "execute_result"
    }
   ],
   "source": [
    "df.shape"
   ]
  },
  {
   "cell_type": "markdown",
   "id": "12e13f12",
   "metadata": {},
   "source": [
    "# EDA"
   ]
  },
  {
   "cell_type": "code",
   "execution_count": 14,
   "id": "d54bae7f",
   "metadata": {},
   "outputs": [
    {
     "data": {
      "text/html": [
       "<div>\n",
       "<style scoped>\n",
       "    .dataframe tbody tr th:only-of-type {\n",
       "        vertical-align: middle;\n",
       "    }\n",
       "\n",
       "    .dataframe tbody tr th {\n",
       "        vertical-align: top;\n",
       "    }\n",
       "\n",
       "    .dataframe thead th {\n",
       "        text-align: right;\n",
       "    }\n",
       "</style>\n",
       "<table border=\"1\" class=\"dataframe\">\n",
       "  <thead>\n",
       "    <tr style=\"text-align: right;\">\n",
       "      <th></th>\n",
       "      <th>target</th>\n",
       "      <th>text</th>\n",
       "    </tr>\n",
       "  </thead>\n",
       "  <tbody>\n",
       "    <tr>\n",
       "      <th>0</th>\n",
       "      <td>ham</td>\n",
       "      <td>Go until jurong point, crazy.. Available only ...</td>\n",
       "    </tr>\n",
       "    <tr>\n",
       "      <th>1</th>\n",
       "      <td>ham</td>\n",
       "      <td>Ok lar... Joking wif u oni...</td>\n",
       "    </tr>\n",
       "    <tr>\n",
       "      <th>2</th>\n",
       "      <td>spam</td>\n",
       "      <td>Free entry in 2 a wkly comp to win FA Cup fina...</td>\n",
       "    </tr>\n",
       "    <tr>\n",
       "      <th>3</th>\n",
       "      <td>ham</td>\n",
       "      <td>U dun say so early hor... U c already then say...</td>\n",
       "    </tr>\n",
       "    <tr>\n",
       "      <th>4</th>\n",
       "      <td>ham</td>\n",
       "      <td>Nah I don't think he goes to usf, he lives aro...</td>\n",
       "    </tr>\n",
       "  </tbody>\n",
       "</table>\n",
       "</div>"
      ],
      "text/plain": [
       "  target                                               text\n",
       "0    ham  Go until jurong point, crazy.. Available only ...\n",
       "1    ham                      Ok lar... Joking wif u oni...\n",
       "2   spam  Free entry in 2 a wkly comp to win FA Cup fina...\n",
       "3    ham  U dun say so early hor... U c already then say...\n",
       "4    ham  Nah I don't think he goes to usf, he lives aro..."
      ]
     },
     "execution_count": 14,
     "metadata": {},
     "output_type": "execute_result"
    }
   ],
   "source": [
    "df.head()"
   ]
  },
  {
   "cell_type": "code",
   "execution_count": 15,
   "id": "e99c9fed",
   "metadata": {},
   "outputs": [
    {
     "data": {
      "text/plain": [
       "target\n",
       "ham     4171\n",
       "spam     427\n",
       "Name: count, dtype: int64"
      ]
     },
     "execution_count": 15,
     "metadata": {},
     "output_type": "execute_result"
    }
   ],
   "source": [
    "df['target'].value_counts()"
   ]
  },
  {
   "cell_type": "code",
   "execution_count": 16,
   "id": "7b0b75dd",
   "metadata": {},
   "outputs": [],
   "source": [
    "import matplotlib.pyplot as plt"
   ]
  },
  {
   "cell_type": "code",
   "execution_count": 17,
   "id": "c67abcb3",
   "metadata": {},
   "outputs": [
    {
     "data": {
      "text/plain": [
       "([<matplotlib.patches.Wedge at 0x164e3f98690>,\n",
       "  <matplotlib.patches.Wedge at 0x164e42fd6d0>],\n",
       " [Text(-1.0535166176276187, 0.3163901648004599, 'ham'),\n",
       "  Text(1.053516602816325, -0.3163902141191318, 'spam')],\n",
       " [Text(-0.5746454277968829, 0.17257645352752354, '90.71'),\n",
       "  Text(0.5746454197179953, -0.17257648042861734, '9.29')])"
      ]
     },
     "execution_count": 17,
     "metadata": {},
     "output_type": "execute_result"
    },
    {
     "data": {
      "image/png": "[encoded data removed]",
      "text/plain": [
       "<Figure size 640x480 with 1 Axes>"
      ]
     },
     "metadata": {},
     "output_type": "display_data"
    }
   ],
   "source": [
    "plt.pie(df['target'].value_counts(),labels=['ham','spam'],autopct=\"%0.2f\")"
   ]
  },
  {
   "cell_type": "markdown",
   "id": "0fe0bbef",
   "metadata": {},
   "source": [
    "#data embalanced"
   ]
  },
  {
   "cell_type": "code",
   "execution_count": 18,
   "id": "16f5e81b",
   "metadata": {},
   "outputs": [],
   "source": [
    "import nltk"
   ]
  },
  {
   "cell_type": "code",
   "execution_count": 19,
   "id": "90ba08a0",
   "metadata": {},
   "outputs": [
    {
     "name": "stderr",
     "output_type": "stream",
     "text": [
      "[nltk_data] Downloading package punkt to\n",
      "[nltk_data]     C:\\Users\\Hp\\AppData\\Roaming\\nltk_data...\n",
      "[nltk_data]   Package punkt is already up-to-date!\n"
     ]
    },
    {
     "data": {
      "text/plain": [
       "True"
      ]
     },
     "execution_count": 19,
     "metadata": {},
     "output_type": "execute_result"
    }
   ],
   "source": [
    "nltk.download('punkt')"
   ]
  },
  {
   "cell_type": "raw",
   "id": "0402300f",
   "metadata": {},
   "source": [
    "#number of charecter\n",
    "#numner of words\n",
    "#number of sentes"
   ]
  },
  {
   "cell_type": "code",
   "execution_count": 20,
   "id": "1bd87ac4",
   "metadata": {},
   "outputs": [
    {
     "name": "stderr",
     "output_type": "stream",
     "text": [
      "C:\\Users\\Hp\\AppData\\Local\\Temp\\ipykernel_13496\\1778977070.py:1: SettingWithCopyWarning: \n",
      "A value is trying to be set on a copy of a slice from a DataFrame.\n",
      "Try using .loc[row_indexer,col_indexer] = value instead\n",
      "\n",
      "See the caveats in the documentation: https://pandas.pydata.org/pandas-docs/stable/user_guide/indexing.html#returning-a-view-versus-a-copy\n",
      "  df['num_characters'] = df['text'].str.len()\n"
     ]
    }
   ],
   "source": [
    "df['num_characters'] = df['text'].str.len()"
   ]
  },
  {
   "cell_type": "code",
   "execution_count": 21,
   "id": "cac2c9f8",
   "metadata": {},
   "outputs": [
    {
     "data": {
      "text/html": [
       "<div>\n",
       "<style scoped>\n",
       "    .dataframe tbody tr th:only-of-type {\n",
       "        vertical-align: middle;\n",
       "    }\n",
       "\n",
       "    .dataframe tbody tr th {\n",
       "        vertical-align: top;\n",
       "    }\n",
       "\n",
       "    .dataframe thead th {\n",
       "        text-align: right;\n",
       "    }\n",
       "</style>\n",
       "<table border=\"1\" class=\"dataframe\">\n",
       "  <thead>\n",
       "    <tr style=\"text-align: right;\">\n",
       "      <th></th>\n",
       "      <th>target</th>\n",
       "      <th>text</th>\n",
       "      <th>num_characters</th>\n",
       "    </tr>\n",
       "  </thead>\n",
       "  <tbody>\n",
       "    <tr>\n",
       "      <th>0</th>\n",
       "      <td>ham</td>\n",
       "      <td>Go until jurong point, crazy.. Available only ...</td>\n",
       "      <td>111.0</td>\n",
       "    </tr>\n",
       "    <tr>\n",
       "      <th>1</th>\n",
       "      <td>ham</td>\n",
       "      <td>Ok lar... Joking wif u oni...</td>\n",
       "      <td>29.0</td>\n",
       "    </tr>\n",
       "    <tr>\n",
       "      <th>2</th>\n",
       "      <td>spam</td>\n",
       "      <td>Free entry in 2 a wkly comp to win FA Cup fina...</td>\n",
       "      <td>155.0</td>\n",
       "    </tr>\n",
       "    <tr>\n",
       "      <th>3</th>\n",
       "      <td>ham</td>\n",
       "      <td>U dun say so early hor... U c already then say...</td>\n",
       "      <td>49.0</td>\n",
       "    </tr>\n",
       "    <tr>\n",
       "      <th>4</th>\n",
       "      <td>ham</td>\n",
       "      <td>Nah I don't think he goes to usf, he lives aro...</td>\n",
       "      <td>61.0</td>\n",
       "    </tr>\n",
       "    <tr>\n",
       "      <th>...</th>\n",
       "      <td>...</td>\n",
       "      <td>...</td>\n",
       "      <td>...</td>\n",
       "    </tr>\n",
       "    <tr>\n",
       "      <th>5400</th>\n",
       "      <td>ham</td>\n",
       "      <td>Huh y lei...</td>\n",
       "      <td>12.0</td>\n",
       "    </tr>\n",
       "    <tr>\n",
       "      <th>5401</th>\n",
       "      <td>spam</td>\n",
       "      <td>REMINDER FROM O2: To get 2.50 pounds free call...</td>\n",
       "      <td>147.0</td>\n",
       "    </tr>\n",
       "    <tr>\n",
       "      <th>5404</th>\n",
       "      <td>ham</td>\n",
       "      <td>Pity, * was in mood for that. So...any other s...</td>\n",
       "      <td>57.0</td>\n",
       "    </tr>\n",
       "    <tr>\n",
       "      <th>5405</th>\n",
       "      <td>ham</td>\n",
       "      <td>The guy did some bitching but I acted like i'd...</td>\n",
       "      <td>125.0</td>\n",
       "    </tr>\n",
       "    <tr>\n",
       "      <th>5406</th>\n",
       "      <td>ham</td>\n",
       "      <td>Rofl. Its true to its name</td>\n",
       "      <td>26.0</td>\n",
       "    </tr>\n",
       "  </tbody>\n",
       "</table>\n",
       "<p>4598 rows × 3 columns</p>\n",
       "</div>"
      ],
      "text/plain": [
       "     target                                               text  num_characters\n",
       "0       ham  Go until jurong point, crazy.. Available only ...           111.0\n",
       "1       ham                      Ok lar... Joking wif u oni...            29.0\n",
       "2      spam  Free entry in 2 a wkly comp to win FA Cup fina...           155.0\n",
       "3       ham  U dun say so early hor... U c already then say...            49.0\n",
       "4       ham  Nah I don't think he goes to usf, he lives aro...            61.0\n",
       "...     ...                                                ...             ...\n",
       "5400    ham                                       Huh y lei...            12.0\n",
       "5401   spam  REMINDER FROM O2: To get 2.50 pounds free call...           147.0\n",
       "5404    ham  Pity, * was in mood for that. So...any other s...            57.0\n",
       "5405    ham  The guy did some bitching but I acted like i'd...           125.0\n",
       "5406    ham                         Rofl. Its true to its name            26.0\n",
       "\n",
       "[4598 rows x 3 columns]"
      ]
     },
     "execution_count": 21,
     "metadata": {},
     "output_type": "execute_result"
    }
   ],
   "source": [
    "df"
   ]
  },
  {
   "cell_type": "markdown",
   "id": "ca7e1f9a",
   "metadata": {},
   "source": [
    "#number of words"
   ]
  },
  {
   "cell_type": "code",
   "execution_count": 22,
   "id": "044af8fe",
   "metadata": {},
   "outputs": [],
   "source": [
    "def count_total_words(text):\n",
    "    if isinstance(text, str):\n",
    "        return len(text.split())\n",
    "    else:\n",
    "        return 0"
   ]
  },
  {
   "cell_type": "code",
   "execution_count": 23,
   "id": "e9f90aff",
   "metadata": {},
   "outputs": [
    {
     "name": "stderr",
     "output_type": "stream",
     "text": [
      "C:\\Users\\Hp\\AppData\\Local\\Temp\\ipykernel_13496\\3075862056.py:1: SettingWithCopyWarning: \n",
      "A value is trying to be set on a copy of a slice from a DataFrame.\n",
      "Try using .loc[row_indexer,col_indexer] = value instead\n",
      "\n",
      "See the caveats in the documentation: https://pandas.pydata.org/pandas-docs/stable/user_guide/indexing.html#returning-a-view-versus-a-copy\n",
      "  df['word_lengths'] = df['text'].apply(count_total_words)\n"
     ]
    }
   ],
   "source": [
    "df['word_lengths'] = df['text'].apply(count_total_words)"
   ]
  },
  {
   "cell_type": "code",
   "execution_count": 24,
   "id": "6d3a80de",
   "metadata": {},
   "outputs": [
    {
     "data": {
      "text/html": [
       "<div>\n",
       "<style scoped>\n",
       "    .dataframe tbody tr th:only-of-type {\n",
       "        vertical-align: middle;\n",
       "    }\n",
       "\n",
       "    .dataframe tbody tr th {\n",
       "        vertical-align: top;\n",
       "    }\n",
       "\n",
       "    .dataframe thead th {\n",
       "        text-align: right;\n",
       "    }\n",
       "</style>\n",
       "<table border=\"1\" class=\"dataframe\">\n",
       "  <thead>\n",
       "    <tr style=\"text-align: right;\">\n",
       "      <th></th>\n",
       "      <th>target</th>\n",
       "      <th>text</th>\n",
       "      <th>num_characters</th>\n",
       "      <th>word_lengths</th>\n",
       "    </tr>\n",
       "  </thead>\n",
       "  <tbody>\n",
       "    <tr>\n",
       "      <th>0</th>\n",
       "      <td>ham</td>\n",
       "      <td>Go until jurong point, crazy.. Available only ...</td>\n",
       "      <td>111.0</td>\n",
       "      <td>20</td>\n",
       "    </tr>\n",
       "    <tr>\n",
       "      <th>1</th>\n",
       "      <td>ham</td>\n",
       "      <td>Ok lar... Joking wif u oni...</td>\n",
       "      <td>29.0</td>\n",
       "      <td>6</td>\n",
       "    </tr>\n",
       "    <tr>\n",
       "      <th>2</th>\n",
       "      <td>spam</td>\n",
       "      <td>Free entry in 2 a wkly comp to win FA Cup fina...</td>\n",
       "      <td>155.0</td>\n",
       "      <td>28</td>\n",
       "    </tr>\n",
       "    <tr>\n",
       "      <th>3</th>\n",
       "      <td>ham</td>\n",
       "      <td>U dun say so early hor... U c already then say...</td>\n",
       "      <td>49.0</td>\n",
       "      <td>11</td>\n",
       "    </tr>\n",
       "    <tr>\n",
       "      <th>4</th>\n",
       "      <td>ham</td>\n",
       "      <td>Nah I don't think he goes to usf, he lives aro...</td>\n",
       "      <td>61.0</td>\n",
       "      <td>13</td>\n",
       "    </tr>\n",
       "    <tr>\n",
       "      <th>...</th>\n",
       "      <td>...</td>\n",
       "      <td>...</td>\n",
       "      <td>...</td>\n",
       "      <td>...</td>\n",
       "    </tr>\n",
       "    <tr>\n",
       "      <th>5400</th>\n",
       "      <td>ham</td>\n",
       "      <td>Huh y lei...</td>\n",
       "      <td>12.0</td>\n",
       "      <td>3</td>\n",
       "    </tr>\n",
       "    <tr>\n",
       "      <th>5401</th>\n",
       "      <td>spam</td>\n",
       "      <td>REMINDER FROM O2: To get 2.50 pounds free call...</td>\n",
       "      <td>147.0</td>\n",
       "      <td>28</td>\n",
       "    </tr>\n",
       "    <tr>\n",
       "      <th>5404</th>\n",
       "      <td>ham</td>\n",
       "      <td>Pity, * was in mood for that. So...any other s...</td>\n",
       "      <td>57.0</td>\n",
       "      <td>10</td>\n",
       "    </tr>\n",
       "    <tr>\n",
       "      <th>5405</th>\n",
       "      <td>ham</td>\n",
       "      <td>The guy did some bitching but I acted like i'd...</td>\n",
       "      <td>125.0</td>\n",
       "      <td>26</td>\n",
       "    </tr>\n",
       "    <tr>\n",
       "      <th>5406</th>\n",
       "      <td>ham</td>\n",
       "      <td>Rofl. Its true to its name</td>\n",
       "      <td>26.0</td>\n",
       "      <td>6</td>\n",
       "    </tr>\n",
       "  </tbody>\n",
       "</table>\n",
       "<p>4598 rows × 4 columns</p>\n",
       "</div>"
      ],
      "text/plain": [
       "     target                                               text  \\\n",
       "0       ham  Go until jurong point, crazy.. Available only ...   \n",
       "1       ham                      Ok lar... Joking wif u oni...   \n",
       "2      spam  Free entry in 2 a wkly comp to win FA Cup fina...   \n",
       "3       ham  U dun say so early hor... U c already then say...   \n",
       "4       ham  Nah I don't think he goes to usf, he lives aro...   \n",
       "...     ...                                                ...   \n",
       "5400    ham                                       Huh y lei...   \n",
       "5401   spam  REMINDER FROM O2: To get 2.50 pounds free call...   \n",
       "5404    ham  Pity, * was in mood for that. So...any other s...   \n",
       "5405    ham  The guy did some bitching but I acted like i'd...   \n",
       "5406    ham                         Rofl. Its true to its name   \n",
       "\n",
       "      num_characters  word_lengths  \n",
       "0              111.0            20  \n",
       "1               29.0             6  \n",
       "2              155.0            28  \n",
       "3               49.0            11  \n",
       "4               61.0            13  \n",
       "...              ...           ...  \n",
       "5400            12.0             3  \n",
       "5401           147.0            28  \n",
       "5404            57.0            10  \n",
       "5405           125.0            26  \n",
       "5406            26.0             6  \n",
       "\n",
       "[4598 rows x 4 columns]"
      ]
     },
     "execution_count": 24,
     "metadata": {},
     "output_type": "execute_result"
    }
   ],
   "source": [
    "df"
   ]
  },
  {
   "cell_type": "code",
   "execution_count": 25,
   "id": "7eaa242e",
   "metadata": {},
   "outputs": [],
   "source": [
    "def count_sentences(text):\n",
    "    if isinstance(text, str):\n",
    "        sentences = nltk.sent_tokenize(text)\n",
    "        return len(sentences)\n",
    "    else:\n",
    "        return 0"
   ]
  },
  {
   "cell_type": "code",
   "execution_count": 26,
   "id": "67551bd8",
   "metadata": {},
   "outputs": [
    {
     "name": "stderr",
     "output_type": "stream",
     "text": [
      "C:\\Users\\Hp\\AppData\\Local\\Temp\\ipykernel_13496\\3806634928.py:1: SettingWithCopyWarning: \n",
      "A value is trying to be set on a copy of a slice from a DataFrame.\n",
      "Try using .loc[row_indexer,col_indexer] = value instead\n",
      "\n",
      "See the caveats in the documentation: https://pandas.pydata.org/pandas-docs/stable/user_guide/indexing.html#returning-a-view-versus-a-copy\n",
      "  df['total sentences']=df['text'].apply(count_sentences)\n"
     ]
    }
   ],
   "source": [
    "df['total sentences']=df['text'].apply(count_sentences)"
   ]
  },
  {
   "cell_type": "code",
   "execution_count": 27,
   "id": "b63a0223",
   "metadata": {},
   "outputs": [
    {
     "data": {
      "text/html": [
       "<div>\n",
       "<style scoped>\n",
       "    .dataframe tbody tr th:only-of-type {\n",
       "        vertical-align: middle;\n",
       "    }\n",
       "\n",
       "    .dataframe tbody tr th {\n",
       "        vertical-align: top;\n",
       "    }\n",
       "\n",
       "    .dataframe thead th {\n",
       "        text-align: right;\n",
       "    }\n",
       "</style>\n",
       "<table border=\"1\" class=\"dataframe\">\n",
       "  <thead>\n",
       "    <tr style=\"text-align: right;\">\n",
       "      <th></th>\n",
       "      <th>target</th>\n",
       "      <th>text</th>\n",
       "      <th>num_characters</th>\n",
       "      <th>word_lengths</th>\n",
       "      <th>total sentences</th>\n",
       "    </tr>\n",
       "  </thead>\n",
       "  <tbody>\n",
       "    <tr>\n",
       "      <th>0</th>\n",
       "      <td>ham</td>\n",
       "      <td>Go until jurong point, crazy.. Available only ...</td>\n",
       "      <td>111.0</td>\n",
       "      <td>20</td>\n",
       "      <td>2</td>\n",
       "    </tr>\n",
       "    <tr>\n",
       "      <th>1</th>\n",
       "      <td>ham</td>\n",
       "      <td>Ok lar... Joking wif u oni...</td>\n",
       "      <td>29.0</td>\n",
       "      <td>6</td>\n",
       "      <td>2</td>\n",
       "    </tr>\n",
       "    <tr>\n",
       "      <th>2</th>\n",
       "      <td>spam</td>\n",
       "      <td>Free entry in 2 a wkly comp to win FA Cup fina...</td>\n",
       "      <td>155.0</td>\n",
       "      <td>28</td>\n",
       "      <td>2</td>\n",
       "    </tr>\n",
       "    <tr>\n",
       "      <th>3</th>\n",
       "      <td>ham</td>\n",
       "      <td>U dun say so early hor... U c already then say...</td>\n",
       "      <td>49.0</td>\n",
       "      <td>11</td>\n",
       "      <td>1</td>\n",
       "    </tr>\n",
       "    <tr>\n",
       "      <th>4</th>\n",
       "      <td>ham</td>\n",
       "      <td>Nah I don't think he goes to usf, he lives aro...</td>\n",
       "      <td>61.0</td>\n",
       "      <td>13</td>\n",
       "      <td>1</td>\n",
       "    </tr>\n",
       "    <tr>\n",
       "      <th>...</th>\n",
       "      <td>...</td>\n",
       "      <td>...</td>\n",
       "      <td>...</td>\n",
       "      <td>...</td>\n",
       "      <td>...</td>\n",
       "    </tr>\n",
       "    <tr>\n",
       "      <th>5400</th>\n",
       "      <td>ham</td>\n",
       "      <td>Huh y lei...</td>\n",
       "      <td>12.0</td>\n",
       "      <td>3</td>\n",
       "      <td>1</td>\n",
       "    </tr>\n",
       "    <tr>\n",
       "      <th>5401</th>\n",
       "      <td>spam</td>\n",
       "      <td>REMINDER FROM O2: To get 2.50 pounds free call...</td>\n",
       "      <td>147.0</td>\n",
       "      <td>28</td>\n",
       "      <td>1</td>\n",
       "    </tr>\n",
       "    <tr>\n",
       "      <th>5404</th>\n",
       "      <td>ham</td>\n",
       "      <td>Pity, * was in mood for that. So...any other s...</td>\n",
       "      <td>57.0</td>\n",
       "      <td>10</td>\n",
       "      <td>2</td>\n",
       "    </tr>\n",
       "    <tr>\n",
       "      <th>5405</th>\n",
       "      <td>ham</td>\n",
       "      <td>The guy did some bitching but I acted like i'd...</td>\n",
       "      <td>125.0</td>\n",
       "      <td>26</td>\n",
       "      <td>1</td>\n",
       "    </tr>\n",
       "    <tr>\n",
       "      <th>5406</th>\n",
       "      <td>ham</td>\n",
       "      <td>Rofl. Its true to its name</td>\n",
       "      <td>26.0</td>\n",
       "      <td>6</td>\n",
       "      <td>2</td>\n",
       "    </tr>\n",
       "  </tbody>\n",
       "</table>\n",
       "<p>4598 rows × 5 columns</p>\n",
       "</div>"
      ],
      "text/plain": [
       "     target                                               text  \\\n",
       "0       ham  Go until jurong point, crazy.. Available only ...   \n",
       "1       ham                      Ok lar... Joking wif u oni...   \n",
       "2      spam  Free entry in 2 a wkly comp to win FA Cup fina...   \n",
       "3       ham  U dun say so early hor... U c already then say...   \n",
       "4       ham  Nah I don't think he goes to usf, he lives aro...   \n",
       "...     ...                                                ...   \n",
       "5400    ham                                       Huh y lei...   \n",
       "5401   spam  REMINDER FROM O2: To get 2.50 pounds free call...   \n",
       "5404    ham  Pity, * was in mood for that. So...any other s...   \n",
       "5405    ham  The guy did some bitching but I acted like i'd...   \n",
       "5406    ham                         Rofl. Its true to its name   \n",
       "\n",
       "      num_characters  word_lengths  total sentences  \n",
       "0              111.0            20                2  \n",
       "1               29.0             6                2  \n",
       "2              155.0            28                2  \n",
       "3               49.0            11                1  \n",
       "4               61.0            13                1  \n",
       "...              ...           ...              ...  \n",
       "5400            12.0             3                1  \n",
       "5401           147.0            28                1  \n",
       "5404            57.0            10                2  \n",
       "5405           125.0            26                1  \n",
       "5406            26.0             6                2  \n",
       "\n",
       "[4598 rows x 5 columns]"
      ]
     },
     "execution_count": 27,
     "metadata": {},
     "output_type": "execute_result"
    }
   ],
   "source": [
    "df"
   ]
  },
  {
   "cell_type": "code",
   "execution_count": 28,
   "id": "c92a9b05",
   "metadata": {},
   "outputs": [
    {
     "name": "stderr",
     "output_type": "stream",
     "text": [
      "C:\\Users\\Hp\\AppData\\Local\\Temp\\ipykernel_13496\\1914993857.py:3: SettingWithCopyWarning: \n",
      "A value is trying to be set on a copy of a slice from a DataFrame.\n",
      "Try using .loc[row_indexer,col_indexer] = value instead\n",
      "\n",
      "See the caveats in the documentation: https://pandas.pydata.org/pandas-docs/stable/user_guide/indexing.html#returning-a-view-versus-a-copy\n",
      "  df['target']=encoder.fit_transform(df['target'])\n"
     ]
    }
   ],
   "source": [
    "from sklearn.preprocessing import LabelEncoder\n",
    "encoder=LabelEncoder()\n",
    "df['target']=encoder.fit_transform(df['target'])"
   ]
  },
  {
   "cell_type": "code",
   "execution_count": 29,
   "id": "fad37714",
   "metadata": {},
   "outputs": [
    {
     "data": {
      "text/html": [
       "<div>\n",
       "<style scoped>\n",
       "    .dataframe tbody tr th:only-of-type {\n",
       "        vertical-align: middle;\n",
       "    }\n",
       "\n",
       "    .dataframe tbody tr th {\n",
       "        vertical-align: top;\n",
       "    }\n",
       "\n",
       "    .dataframe thead th {\n",
       "        text-align: right;\n",
       "    }\n",
       "</style>\n",
       "<table border=\"1\" class=\"dataframe\">\n",
       "  <thead>\n",
       "    <tr style=\"text-align: right;\">\n",
       "      <th></th>\n",
       "      <th>num_characters</th>\n",
       "      <th>word_lengths</th>\n",
       "      <th>total sentences</th>\n",
       "    </tr>\n",
       "  </thead>\n",
       "  <tbody>\n",
       "    <tr>\n",
       "      <th>count</th>\n",
       "      <td>4169.000000</td>\n",
       "      <td>4171.000000</td>\n",
       "      <td>4171.000000</td>\n",
       "    </tr>\n",
       "    <tr>\n",
       "      <th>mean</th>\n",
       "      <td>71.808347</td>\n",
       "      <td>14.318389</td>\n",
       "      <td>1.844162</td>\n",
       "    </tr>\n",
       "    <tr>\n",
       "      <th>std</th>\n",
       "      <td>63.275280</td>\n",
       "      <td>12.220508</td>\n",
       "      <td>1.452914</td>\n",
       "    </tr>\n",
       "    <tr>\n",
       "      <th>min</th>\n",
       "      <td>2.000000</td>\n",
       "      <td>0.000000</td>\n",
       "      <td>0.000000</td>\n",
       "    </tr>\n",
       "    <tr>\n",
       "      <th>25%</th>\n",
       "      <td>34.000000</td>\n",
       "      <td>7.000000</td>\n",
       "      <td>1.000000</td>\n",
       "    </tr>\n",
       "    <tr>\n",
       "      <th>50%</th>\n",
       "      <td>52.000000</td>\n",
       "      <td>11.000000</td>\n",
       "      <td>1.000000</td>\n",
       "    </tr>\n",
       "    <tr>\n",
       "      <th>75%</th>\n",
       "      <td>90.000000</td>\n",
       "      <td>18.000000</td>\n",
       "      <td>2.000000</td>\n",
       "    </tr>\n",
       "    <tr>\n",
       "      <th>max</th>\n",
       "      <td>1146.000000</td>\n",
       "      <td>221.000000</td>\n",
       "      <td>38.000000</td>\n",
       "    </tr>\n",
       "  </tbody>\n",
       "</table>\n",
       "</div>"
      ],
      "text/plain": [
       "       num_characters  word_lengths  total sentences\n",
       "count     4169.000000   4171.000000      4171.000000\n",
       "mean        71.808347     14.318389         1.844162\n",
       "std         63.275280     12.220508         1.452914\n",
       "min          2.000000      0.000000         0.000000\n",
       "25%         34.000000      7.000000         1.000000\n",
       "50%         52.000000     11.000000         1.000000\n",
       "75%         90.000000     18.000000         2.000000\n",
       "max       1146.000000    221.000000        38.000000"
      ]
     },
     "execution_count": 29,
     "metadata": {},
     "output_type": "execute_result"
    }
   ],
   "source": [
    "#ham\n",
    "df[df['target']==0][['num_characters','word_lengths','total sentences']].describe()"
   ]
  },
  {
   "cell_type": "code",
   "execution_count": 30,
   "id": "466c5233",
   "metadata": {},
   "outputs": [
    {
     "data": {
      "text/html": [
       "<div>\n",
       "<style scoped>\n",
       "    .dataframe tbody tr th:only-of-type {\n",
       "        vertical-align: middle;\n",
       "    }\n",
       "\n",
       "    .dataframe tbody tr th {\n",
       "        vertical-align: top;\n",
       "    }\n",
       "\n",
       "    .dataframe thead th {\n",
       "        text-align: right;\n",
       "    }\n",
       "</style>\n",
       "<table border=\"1\" class=\"dataframe\">\n",
       "  <thead>\n",
       "    <tr style=\"text-align: right;\">\n",
       "      <th></th>\n",
       "      <th>num_characters</th>\n",
       "      <th>word_lengths</th>\n",
       "      <th>total sentences</th>\n",
       "    </tr>\n",
       "  </thead>\n",
       "  <tbody>\n",
       "    <tr>\n",
       "      <th>count</th>\n",
       "      <td>426.000000</td>\n",
       "      <td>427.000000</td>\n",
       "      <td>427.000000</td>\n",
       "    </tr>\n",
       "    <tr>\n",
       "      <th>mean</th>\n",
       "      <td>134.723005</td>\n",
       "      <td>23.252927</td>\n",
       "      <td>2.854801</td>\n",
       "    </tr>\n",
       "    <tr>\n",
       "      <th>std</th>\n",
       "      <td>38.709698</td>\n",
       "      <td>7.802233</td>\n",
       "      <td>1.411720</td>\n",
       "    </tr>\n",
       "    <tr>\n",
       "      <th>min</th>\n",
       "      <td>13.000000</td>\n",
       "      <td>0.000000</td>\n",
       "      <td>0.000000</td>\n",
       "    </tr>\n",
       "    <tr>\n",
       "      <th>25%</th>\n",
       "      <td>124.000000</td>\n",
       "      <td>20.000000</td>\n",
       "      <td>2.000000</td>\n",
       "    </tr>\n",
       "    <tr>\n",
       "      <th>50%</th>\n",
       "      <td>147.000000</td>\n",
       "      <td>24.000000</td>\n",
       "      <td>3.000000</td>\n",
       "    </tr>\n",
       "    <tr>\n",
       "      <th>75%</th>\n",
       "      <td>156.000000</td>\n",
       "      <td>28.000000</td>\n",
       "      <td>4.000000</td>\n",
       "    </tr>\n",
       "    <tr>\n",
       "      <th>max</th>\n",
       "      <td>545.000000</td>\n",
       "      <td>105.000000</td>\n",
       "      <td>8.000000</td>\n",
       "    </tr>\n",
       "  </tbody>\n",
       "</table>\n",
       "</div>"
      ],
      "text/plain": [
       "       num_characters  word_lengths  total sentences\n",
       "count      426.000000    427.000000       427.000000\n",
       "mean       134.723005     23.252927         2.854801\n",
       "std         38.709698      7.802233         1.411720\n",
       "min         13.000000      0.000000         0.000000\n",
       "25%        124.000000     20.000000         2.000000\n",
       "50%        147.000000     24.000000         3.000000\n",
       "75%        156.000000     28.000000         4.000000\n",
       "max        545.000000    105.000000         8.000000"
      ]
     },
     "execution_count": 30,
     "metadata": {},
     "output_type": "execute_result"
    }
   ],
   "source": [
    "#spam\n",
    "df[df['target']==1][['num_characters','word_lengths','total sentences']].describe()"
   ]
  },
  {
   "cell_type": "markdown",
   "id": "012dd497",
   "metadata": {},
   "source": [
    "#histograms"
   ]
  },
  {
   "cell_type": "code",
   "execution_count": 31,
   "id": "43b345b8",
   "metadata": {},
   "outputs": [],
   "source": [
    "import seaborn as sns"
   ]
  },
  {
   "cell_type": "code",
   "execution_count": 32,
   "id": "977f79c7",
   "metadata": {},
   "outputs": [
    {
     "data": {
      "text/plain": [
       "<Axes: xlabel='num_characters', ylabel='Count'>"
      ]
     },
     "execution_count": 32,
     "metadata": {},
     "output_type": "execute_result"
    },
    {
     "data": {
      "image/png": "[encoded data removed]",
      "text/plain": [
       "<Figure size 1200x600 with 1 Axes>"
      ]
     },
     "metadata": {},
     "output_type": "display_data"
    }
   ],
   "source": [
    "plt.figure(figsize=(12,6))\n",
    "sns.histplot(df[df['target']==0]['num_characters'])\n",
    "sns.histplot(df[df['target']==1]['num_characters'],color='red')"
   ]
  },
  {
   "cell_type": "code",
   "execution_count": 33,
   "id": "c78cbc5a",
   "metadata": {},
   "outputs": [
    {
     "data": {
      "text/plain": [
       "<Axes: xlabel='word_lengths', ylabel='Count'>"
      ]
     },
     "execution_count": 33,
     "metadata": {},
     "output_type": "execute_result"
    },
    {
     "data": {
      "image/png": "[encoded data removed]",
      "text/plain": [
       "<Figure size 1200x600 with 1 Axes>"
      ]
     },
     "metadata": {},
     "output_type": "display_data"
    }
   ],
   "source": [
    "plt.figure(figsize=(12,6))\n",
    "sns.histplot(df[df['target']==0]['word_lengths'])  #ham\n",
    "sns.histplot(df[df['target']==1]['word_lengths'],color='red')  #spam"
   ]
  },
  {
   "cell_type": "code",
   "execution_count": 34,
   "id": "273c9ef5",
   "metadata": {},
   "outputs": [
    {
     "data": {
      "text/plain": [
       "<Axes: xlabel='total sentences', ylabel='Count'>"
      ]
     },
     "execution_count": 34,
     "metadata": {},
     "output_type": "execute_result"
    },
    {
     "data": {
      "image/png": "[encoded data removed]",
      "text/plain": [
       "<Figure size 1200x600 with 1 Axes>"
      ]
     },
     "metadata": {},
     "output_type": "display_data"
    }
   ],
   "source": [
    "plt.figure(figsize=(12,6))\n",
    "sns.histplot(df[df['target']==0]['total sentences'])   #ham\n",
    "sns.histplot(df[df['target']==1]['total sentences'],color='red')   #spam"
   ]
  },
  {
   "cell_type": "code",
   "execution_count": 35,
   "id": "0764187b",
   "metadata": {},
   "outputs": [
    {
     "name": "stderr",
     "output_type": "stream",
     "text": [
      "C:\\Users\\Hp\\anaconda3\\Lib\\site-packages\\seaborn\\axisgrid.py:118: UserWarning: The figure layout has changed to tight\n",
      "  self._figure.tight_layout(*args, **kwargs)\n"
     ]
    },
    {
     "data": {
      "text/plain": [
       "<seaborn.axisgrid.PairGrid at 0x164e9edf790>"
      ]
     },
     "execution_count": 35,
     "metadata": {},
     "output_type": "execute_result"
    },
    {
     "data": {
      "image/png": "[encoded data removed]",
      "text/plain": [
       "<Figure size 808.875x750 with 12 Axes>"
      ]
     },
     "metadata": {},
     "output_type": "display_data"
    }
   ],
   "source": [
    "sns.pairplot(df,hue='target')"
   ]
  },
  {
   "cell_type": "code",
   "execution_count": 37,
   "id": "871dfd8b",
   "metadata": {},
   "outputs": [],
   "source": [
    "#sns.heatmap(df.corr(),annot=True)               #no charecter corre with targer 0.38"
   ]
  },
  {
   "cell_type": "code",
   "execution_count": 39,
   "id": "d7846152",
   "metadata": {},
   "outputs": [
    {
     "data": {
      "image/png": "[encoded data removed]",
      "text/plain": [
       "<Figure size 640x480 with 2 Axes>"
      ]
     },
     "metadata": {},
     "output_type": "display_data"
    }
   ],
   "source": [
    "numeric_df = df.select_dtypes(include=['number'])\n",
    "corr_matrix = numeric_df.corr()  # Compute correlation matrix\n",
    "sns.heatmap(corr_matrix, annot=True, cmap='coolwarm', fmt=\".2f\")\n",
    "plt.show()"
   ]
  },
  {
   "cell_type": "raw",
   "id": "75f5e37a",
   "metadata": {},
   "source": [
    "# 3. Data Preprocessing\n",
    "\n",
    "#     Lower case\n",
    "#     Tokenization\n",
    "#     Removing special characters\n",
    "#     Removing stop words and punctuation\n",
    "#     Stemming"
   ]
  },
  {
   "cell_type": "code",
   "execution_count": 40,
   "id": "1b71b5dc",
   "metadata": {
    "scrolled": false
   },
   "outputs": [
    {
     "data": {
      "text/plain": [
       "['i',\n",
       " 'me',\n",
       " 'my',\n",
       " 'myself',\n",
       " 'we',\n",
       " 'our',\n",
       " 'ours',\n",
       " 'ourselves',\n",
       " 'you',\n",
       " \"you're\",\n",
       " \"you've\",\n",
       " \"you'll\",\n",
       " \"you'd\",\n",
       " 'your',\n",
       " 'yours',\n",
       " 'yourself',\n",
       " 'yourselves',\n",
       " 'he',\n",
       " 'him',\n",
       " 'his',\n",
       " 'himself',\n",
       " 'she',\n",
       " \"she's\",\n",
       " 'her',\n",
       " 'hers',\n",
       " 'herself',\n",
       " 'it',\n",
       " \"it's\",\n",
       " 'its',\n",
       " 'itself',\n",
       " 'they',\n",
       " 'them',\n",
       " 'their',\n",
       " 'theirs',\n",
       " 'themselves',\n",
       " 'what',\n",
       " 'which',\n",
       " 'who',\n",
       " 'whom',\n",
       " 'this',\n",
       " 'that',\n",
       " \"that'll\",\n",
       " 'these',\n",
       " 'those',\n",
       " 'am',\n",
       " 'is',\n",
       " 'are',\n",
       " 'was',\n",
       " 'were',\n",
       " 'be',\n",
       " 'been',\n",
       " 'being',\n",
       " 'have',\n",
       " 'has',\n",
       " 'had',\n",
       " 'having',\n",
       " 'do',\n",
       " 'does',\n",
       " 'did',\n",
       " 'doing',\n",
       " 'a',\n",
       " 'an',\n",
       " 'the',\n",
       " 'and',\n",
       " 'but',\n",
       " 'if',\n",
       " 'or',\n",
       " 'because',\n",
       " 'as',\n",
       " 'until',\n",
       " 'while',\n",
       " 'of',\n",
       " 'at',\n",
       " 'by',\n",
       " 'for',\n",
       " 'with',\n",
       " 'about',\n",
       " 'against',\n",
       " 'between',\n",
       " 'into',\n",
       " 'through',\n",
       " 'during',\n",
       " 'before',\n",
       " 'after',\n",
       " 'above',\n",
       " 'below',\n",
       " 'to',\n",
       " 'from',\n",
       " 'up',\n",
       " 'down',\n",
       " 'in',\n",
       " 'out',\n",
       " 'on',\n",
       " 'off',\n",
       " 'over',\n",
       " 'under',\n",
       " 'again',\n",
       " 'further',\n",
       " 'then',\n",
       " 'once',\n",
       " 'here',\n",
       " 'there',\n",
       " 'when',\n",
       " 'where',\n",
       " 'why',\n",
       " 'how',\n",
       " 'all',\n",
       " 'any',\n",
       " 'both',\n",
       " 'each',\n",
       " 'few',\n",
       " 'more',\n",
       " 'most',\n",
       " 'other',\n",
       " 'some',\n",
       " 'such',\n",
       " 'no',\n",
       " 'nor',\n",
       " 'not',\n",
       " 'only',\n",
       " 'own',\n",
       " 'same',\n",
       " 'so',\n",
       " 'than',\n",
       " 'too',\n",
       " 'very',\n",
       " 's',\n",
       " 't',\n",
       " 'can',\n",
       " 'will',\n",
       " 'just',\n",
       " 'don',\n",
       " \"don't\",\n",
       " 'should',\n",
       " \"should've\",\n",
       " 'now',\n",
       " 'd',\n",
       " 'll',\n",
       " 'm',\n",
       " 'o',\n",
       " 're',\n",
       " 've',\n",
       " 'y',\n",
       " 'ain',\n",
       " 'aren',\n",
       " \"aren't\",\n",
       " 'couldn',\n",
       " \"couldn't\",\n",
       " 'didn',\n",
       " \"didn't\",\n",
       " 'doesn',\n",
       " \"doesn't\",\n",
       " 'hadn',\n",
       " \"hadn't\",\n",
       " 'hasn',\n",
       " \"hasn't\",\n",
       " 'haven',\n",
       " \"haven't\",\n",
       " 'isn',\n",
       " \"isn't\",\n",
       " 'ma',\n",
       " 'mightn',\n",
       " \"mightn't\",\n",
       " 'mustn',\n",
       " \"mustn't\",\n",
       " 'needn',\n",
       " \"needn't\",\n",
       " 'shan',\n",
       " \"shan't\",\n",
       " 'shouldn',\n",
       " \"shouldn't\",\n",
       " 'wasn',\n",
       " \"wasn't\",\n",
       " 'weren',\n",
       " \"weren't\",\n",
       " 'won',\n",
       " \"won't\",\n",
       " 'wouldn',\n",
       " \"wouldn't\"]"
      ]
     },
     "execution_count": 40,
     "metadata": {},
     "output_type": "execute_result"
    }
   ],
   "source": [
    "from nltk.corpus import stopwords\n",
    "stopwords.words('english')"
   ]
  },
  {
   "cell_type": "code",
   "execution_count": 41,
   "id": "a1f30854",
   "metadata": {},
   "outputs": [],
   "source": [
    "import string"
   ]
  },
  {
   "cell_type": "code",
   "execution_count": 42,
   "id": "47e1a56e",
   "metadata": {},
   "outputs": [
    {
     "data": {
      "text/plain": [
       "'!\"#$%&\\'()*+,-./:;<=>?@[\\\\]^_`{|}~'"
      ]
     },
     "execution_count": 42,
     "metadata": {},
     "output_type": "execute_result"
    }
   ],
   "source": [
    "string.punctuation"
   ]
  },
  {
   "cell_type": "code",
   "execution_count": 43,
   "id": "2736568d",
   "metadata": {},
   "outputs": [
    {
     "name": "stderr",
     "output_type": "stream",
     "text": [
      "C:\\Users\\Hp\\AppData\\Local\\Temp\\ipykernel_13496\\2376533775.py:4: SettingWithCopyWarning: \n",
      "A value is trying to be set on a copy of a slice from a DataFrame.\n",
      "Try using .loc[row_indexer,col_indexer] = value instead\n",
      "\n",
      "See the caveats in the documentation: https://pandas.pydata.org/pandas-docs/stable/user_guide/indexing.html#returning-a-view-versus-a-copy\n",
      "  df['text'] = df['text'].astype(str)\n"
     ]
    }
   ],
   "source": [
    "import pandas as pd\n",
    "\n",
    "# Assuming 'column_name' is the column with mixed types\n",
    "df['text'] = df['text'].astype(str)"
   ]
  },
  {
   "cell_type": "code",
   "execution_count": 44,
   "id": "5c699e44",
   "metadata": {},
   "outputs": [],
   "source": [
    "def transform_text(text):\n",
    "    text = text.lower()\n",
    "    text = nltk.word_tokenize(text)\n",
    "    \n",
    "    y = []\n",
    "    for i in text:\n",
    "        if i.isalnum():\n",
    "            y.append(i)\n",
    "    \n",
    "    text = y[:]\n",
    "    y.clear()\n",
    "    \n",
    "    for i in text:\n",
    "        if i not in stopwords.words('english') and i not in string.punctuation:\n",
    "            y.append(i)\n",
    "            \n",
    "    text = y[:]\n",
    "    y.clear()\n",
    "    \n",
    "    for i in text:\n",
    "        y.append(ps.stem(i))\n",
    "    \n",
    "            \n",
    "    return \" \".join(y)"
   ]
  },
  {
   "cell_type": "code",
   "execution_count": 45,
   "id": "02ccedcd",
   "metadata": {},
   "outputs": [
    {
     "data": {
      "text/plain": [
       "'love'"
      ]
     },
     "execution_count": 45,
     "metadata": {},
     "output_type": "execute_result"
    }
   ],
   "source": [
    "from nltk.stem.porter import PorterStemmer\n",
    "ps = PorterStemmer()\n",
    "ps.stem('loving')"
   ]
  },
  {
   "cell_type": "code",
   "execution_count": 46,
   "id": "7d5799a4",
   "metadata": {},
   "outputs": [
    {
     "data": {
      "text/plain": [
       "\"I'm gonna be home soon and i don't want to talk about this stuff anymore tonight, k? I've cried enough today.\""
      ]
     },
     "execution_count": 46,
     "metadata": {},
     "output_type": "execute_result"
    }
   ],
   "source": [
    "df['text'][10]"
   ]
  },
  {
   "cell_type": "code",
   "execution_count": 47,
   "id": "530d3643",
   "metadata": {},
   "outputs": [
    {
     "data": {
      "text/plain": [
       "'gon na home soon want talk stuff anymor tonight k cri enough today'"
      ]
     },
     "execution_count": 47,
     "metadata": {},
     "output_type": "execute_result"
    }
   ],
   "source": [
    "transform_text(\"I'm gonna be home soon and i don't want to talk about this stuff anymore tonight, k? I've cried enough today.\")"
   ]
  },
  {
   "cell_type": "code",
   "execution_count": 48,
   "id": "c1d30e6f",
   "metadata": {},
   "outputs": [
    {
     "name": "stderr",
     "output_type": "stream",
     "text": [
      "C:\\Users\\Hp\\AppData\\Local\\Temp\\ipykernel_13496\\2325172051.py:1: SettingWithCopyWarning: \n",
      "A value is trying to be set on a copy of a slice from a DataFrame.\n",
      "Try using .loc[row_indexer,col_indexer] = value instead\n",
      "\n",
      "See the caveats in the documentation: https://pandas.pydata.org/pandas-docs/stable/user_guide/indexing.html#returning-a-view-versus-a-copy\n",
      "  df['transformed_column']=df['text'].apply(transform_text)\n"
     ]
    }
   ],
   "source": [
    "df['transformed_column']=df['text'].apply(transform_text)"
   ]
  },
  {
   "cell_type": "code",
   "execution_count": 49,
   "id": "fe2c6d00",
   "metadata": {},
   "outputs": [
    {
     "data": {
      "text/html": [
       "<div>\n",
       "<style scoped>\n",
       "    .dataframe tbody tr th:only-of-type {\n",
       "        vertical-align: middle;\n",
       "    }\n",
       "\n",
       "    .dataframe tbody tr th {\n",
       "        vertical-align: top;\n",
       "    }\n",
       "\n",
       "    .dataframe thead th {\n",
       "        text-align: right;\n",
       "    }\n",
       "</style>\n",
       "<table border=\"1\" class=\"dataframe\">\n",
       "  <thead>\n",
       "    <tr style=\"text-align: right;\">\n",
       "      <th></th>\n",
       "      <th>target</th>\n",
       "      <th>text</th>\n",
       "      <th>num_characters</th>\n",
       "      <th>word_lengths</th>\n",
       "      <th>total sentences</th>\n",
       "      <th>transformed_column</th>\n",
       "    </tr>\n",
       "  </thead>\n",
       "  <tbody>\n",
       "    <tr>\n",
       "      <th>0</th>\n",
       "      <td>0</td>\n",
       "      <td>Go until jurong point, crazy.. Available only ...</td>\n",
       "      <td>111.0</td>\n",
       "      <td>20</td>\n",
       "      <td>2</td>\n",
       "      <td>go jurong point crazi avail bugi n great world...</td>\n",
       "    </tr>\n",
       "    <tr>\n",
       "      <th>1</th>\n",
       "      <td>0</td>\n",
       "      <td>Ok lar... Joking wif u oni...</td>\n",
       "      <td>29.0</td>\n",
       "      <td>6</td>\n",
       "      <td>2</td>\n",
       "      <td>ok lar joke wif u oni</td>\n",
       "    </tr>\n",
       "    <tr>\n",
       "      <th>2</th>\n",
       "      <td>1</td>\n",
       "      <td>Free entry in 2 a wkly comp to win FA Cup fina...</td>\n",
       "      <td>155.0</td>\n",
       "      <td>28</td>\n",
       "      <td>2</td>\n",
       "      <td>free entri 2 wkli comp win fa cup final tkt 21...</td>\n",
       "    </tr>\n",
       "    <tr>\n",
       "      <th>3</th>\n",
       "      <td>0</td>\n",
       "      <td>U dun say so early hor... U c already then say...</td>\n",
       "      <td>49.0</td>\n",
       "      <td>11</td>\n",
       "      <td>1</td>\n",
       "      <td>u dun say earli hor u c alreadi say</td>\n",
       "    </tr>\n",
       "    <tr>\n",
       "      <th>4</th>\n",
       "      <td>0</td>\n",
       "      <td>Nah I don't think he goes to usf, he lives aro...</td>\n",
       "      <td>61.0</td>\n",
       "      <td>13</td>\n",
       "      <td>1</td>\n",
       "      <td>nah think goe usf live around though</td>\n",
       "    </tr>\n",
       "  </tbody>\n",
       "</table>\n",
       "</div>"
      ],
      "text/plain": [
       "   target                                               text  num_characters  \\\n",
       "0       0  Go until jurong point, crazy.. Available only ...           111.0   \n",
       "1       0                      Ok lar... Joking wif u oni...            29.0   \n",
       "2       1  Free entry in 2 a wkly comp to win FA Cup fina...           155.0   \n",
       "3       0  U dun say so early hor... U c already then say...            49.0   \n",
       "4       0  Nah I don't think he goes to usf, he lives aro...            61.0   \n",
       "\n",
       "   word_lengths  total sentences  \\\n",
       "0            20                2   \n",
       "1             6                2   \n",
       "2            28                2   \n",
       "3            11                1   \n",
       "4            13                1   \n",
       "\n",
       "                                  transformed_column  \n",
       "0  go jurong point crazi avail bugi n great world...  \n",
       "1                              ok lar joke wif u oni  \n",
       "2  free entri 2 wkli comp win fa cup final tkt 21...  \n",
       "3                u dun say earli hor u c alreadi say  \n",
       "4               nah think goe usf live around though  "
      ]
     },
     "execution_count": 49,
     "metadata": {},
     "output_type": "execute_result"
    }
   ],
   "source": [
    "df.head()"
   ]
  },
  {
   "cell_type": "code",
   "execution_count": 50,
   "id": "2ac8a22a",
   "metadata": {},
   "outputs": [
    {
     "name": "stdout",
     "output_type": "stream",
     "text": [
      "Collecting wordcloud\n",
      "  Obtaining dependency information for wordcloud from https://files.pythonhosted.org/packages/00/09/abb305dce85911b8fba382926cfc57f2f257729e25937fdcc63f3a1a67f9/wordcloud-1.9.4-cp311-cp311-win_amd64.whl.metadata\n",
      "  Using cached wordcloud-1.9.4-cp311-cp311-win_amd64.whl.metadata (3.5 kB)\n",
      "Requirement already satisfied: numpy>=1.6.1 in c:\\users\\hp\\anaconda3\\lib\\site-packages (from wordcloud) (1.24.3)\n",
      "Requirement already satisfied: pillow in c:\\users\\hp\\anaconda3\\lib\\site-packages (from wordcloud) (10.3.0)\n",
      "Requirement already satisfied: matplotlib in c:\\users\\hp\\anaconda3\\lib\\site-packages (from wordcloud) (3.7.2)\n",
      "Requirement already satisfied: contourpy>=1.0.1 in c:\\users\\hp\\anaconda3\\lib\\site-packages (from matplotlib->wordcloud) (1.0.5)\n",
      "Requirement already satisfied: cycler>=0.10 in c:\\users\\hp\\anaconda3\\lib\\site-packages (from matplotlib->wordcloud) (0.11.0)\n",
      "Requirement already satisfied: fonttools>=4.22.0 in c:\\users\\hp\\anaconda3\\lib\\site-packages (from matplotlib->wordcloud) (4.25.0)\n",
      "Requirement already satisfied: kiwisolver>=1.0.1 in c:\\users\\hp\\anaconda3\\lib\\site-packages (from matplotlib->wordcloud) (1.4.4)\n",
      "Requirement already satisfied: packaging>=20.0 in c:\\users\\hp\\anaconda3\\lib\\site-packages (from matplotlib->wordcloud) (23.1)\n",
      "Requirement already satisfied: pyparsing<3.1,>=2.3.1 in c:\\users\\hp\\anaconda3\\lib\\site-packages (from matplotlib->wordcloud) (3.0.9)\n",
      "Requirement already satisfied: python-dateutil>=2.7 in c:\\users\\hp\\anaconda3\\lib\\site-packages (from matplotlib->wordcloud) (2.8.2)\n",
      "Requirement already satisfied: six>=1.5 in c:\\users\\hp\\anaconda3\\lib\\site-packages (from python-dateutil>=2.7->matplotlib->wordcloud) (1.16.0)\n",
      "Using cached wordcloud-1.9.4-cp311-cp311-win_amd64.whl (299 kB)\n",
      "Installing collected packages: wordcloud\n",
      "Successfully installed wordcloud-1.9.4\n"
     ]
    }
   ],
   "source": [
    "!pip install wordcloud"
   ]
  },
  {
   "cell_type": "code",
   "execution_count": 51,
   "id": "dc7a62e0",
   "metadata": {},
   "outputs": [],
   "source": [
    "spam_corpus=[]\n",
    "for msg in df[df['target']==1]['transformed_column'].tolist():\n",
    "    for word in msg.split():\n",
    "        spam_corpus.append(word)"
   ]
  },
  {
   "cell_type": "code",
   "execution_count": 52,
   "id": "8ae851d7",
   "metadata": {},
   "outputs": [
    {
     "data": {
      "text/plain": [
       "6496"
      ]
     },
     "execution_count": 52,
     "metadata": {},
     "output_type": "execute_result"
    }
   ],
   "source": [
    "len(spam_corpus)"
   ]
  },
  {
   "cell_type": "code",
   "execution_count": 54,
   "id": "3be7fd13",
   "metadata": {},
   "outputs": [
    {
     "data": {
      "text/plain": [
       "0        call\n",
       "1        free\n",
       "2           2\n",
       "3        text\n",
       "4         txt\n",
       "5       repli\n",
       "6        stop\n",
       "7          ur\n",
       "8       mobil\n",
       "9           u\n",
       "10          4\n",
       "11        get\n",
       "12       tone\n",
       "13        new\n",
       "14     servic\n",
       "15      nokia\n",
       "16      phone\n",
       "17     messag\n",
       "18       send\n",
       "19        min\n",
       "20       week\n",
       "21       chat\n",
       "22        per\n",
       "23      pleas\n",
       "24      claim\n",
       "25    contact\n",
       "26      video\n",
       "27       want\n",
       "28          c\n",
       "29        msg\n",
       "30       150p\n",
       "31       date\n",
       "32     latest\n",
       "33      orang\n",
       "34     camera\n",
       "35          1\n",
       "36         go\n",
       "37      offer\n",
       "38      appli\n",
       "39    rington\n",
       "40    network\n",
       "41         sm\n",
       "42     custom\n",
       "43       rate\n",
       "44        day\n",
       "45      pound\n",
       "46       http\n",
       "47        tri\n",
       "48       show\n",
       "49        mob\n",
       "Name: 0, dtype: object"
      ]
     },
     "execution_count": 54,
     "metadata": {},
     "output_type": "execute_result"
    }
   ],
   "source": [
    "from collections import Counter\n",
    "(pd.DataFrame(Counter(spam_corpus).most_common(50))[0])"
   ]
  },
  {
   "cell_type": "code",
   "execution_count": 55,
   "id": "9fdf81a8",
   "metadata": {},
   "outputs": [],
   "source": [
    "ham_corpus=[]\n",
    "for msg in df[df['target']==0]['transformed_column'].tolist():\n",
    "    for word in msg.split():\n",
    "        ham_corpus.append(word)"
   ]
  },
  {
   "cell_type": "code",
   "execution_count": 56,
   "id": "fc93c16c",
   "metadata": {},
   "outputs": [
    {
     "data": {
      "text/plain": [
       "33108"
      ]
     },
     "execution_count": 56,
     "metadata": {},
     "output_type": "execute_result"
    }
   ],
   "source": [
    "len(ham_corpus)"
   ]
  },
  {
   "cell_type": "code",
   "execution_count": 58,
   "id": "d72d3a06",
   "metadata": {},
   "outputs": [
    {
     "data": {
      "text/plain": [
       "0          u\n",
       "1         go\n",
       "2        get\n",
       "3         gt\n",
       "4         lt\n",
       "       ...  \n",
       "65      yeah\n",
       "66      dear\n",
       "67    realli\n",
       "68       let\n",
       "69    friend\n",
       "Name: 0, Length: 70, dtype: object"
      ]
     },
     "execution_count": 58,
     "metadata": {},
     "output_type": "execute_result"
    }
   ],
   "source": [
    "from collections import Counter\n",
    "(pd.DataFrame(Counter(ham_corpus).most_common(70))[0])"
   ]
  },
  {
   "cell_type": "code",
   "execution_count": 59,
   "id": "dee018f9",
   "metadata": {},
   "outputs": [],
   "source": [
    "from sklearn.feature_extraction.text import CountVectorizer,TfidfVectorizer"
   ]
  },
  {
   "cell_type": "code",
   "execution_count": 60,
   "id": "2154ca00",
   "metadata": {},
   "outputs": [],
   "source": [
    "cv=CountVectorizer()\n",
    "tfidf=TfidfVectorizer(max_features=3000)"
   ]
  },
  {
   "cell_type": "code",
   "execution_count": 61,
   "id": "d86aeda6",
   "metadata": {},
   "outputs": [],
   "source": [
    "X=tfidf.fit_transform(df['transformed_column']).toarray()"
   ]
  },
  {
   "cell_type": "code",
   "execution_count": 62,
   "id": "90fd393a",
   "metadata": {},
   "outputs": [],
   "source": [
    "# from sklearn.preprocessing import MinMaxScaler\n",
    "# scaler = MinMaxScaler()\n",
    "# X = scaler.fit_transform(X)"
   ]
  },
  {
   "cell_type": "code",
   "execution_count": 63,
   "id": "6b27a722",
   "metadata": {},
   "outputs": [
    {
     "data": {
      "text/plain": [
       "(4598, 3000)"
      ]
     },
     "execution_count": 63,
     "metadata": {},
     "output_type": "execute_result"
    }
   ],
   "source": [
    "X.shape"
   ]
  },
  {
   "cell_type": "code",
   "execution_count": 64,
   "id": "96f6031f",
   "metadata": {},
   "outputs": [],
   "source": [
    "y=df['target'].values"
   ]
  },
  {
   "cell_type": "code",
   "execution_count": 65,
   "id": "d13d777d",
   "metadata": {},
   "outputs": [],
   "source": [
    "from sklearn.model_selection import train_test_split"
   ]
  },
  {
   "cell_type": "code",
   "execution_count": 66,
   "id": "9a62e0f5",
   "metadata": {},
   "outputs": [],
   "source": [
    "X_train,X_test,y_train,y_test = train_test_split(X,y,test_size=0.2,random_state=2)"
   ]
  },
  {
   "cell_type": "code",
   "execution_count": 67,
   "id": "bebb36ed",
   "metadata": {},
   "outputs": [],
   "source": [
    "from sklearn.naive_bayes import GaussianNB,MultinomialNB,BernoulliNB"
   ]
  },
  {
   "cell_type": "code",
   "execution_count": 68,
   "id": "baee5427",
   "metadata": {},
   "outputs": [],
   "source": [
    "from sklearn.metrics import accuracy_score,confusion_matrix,precision_score"
   ]
  },
  {
   "cell_type": "code",
   "execution_count": 69,
   "id": "e8b950bd",
   "metadata": {},
   "outputs": [],
   "source": [
    "gnb = GaussianNB()\n",
    "mnb = MultinomialNB()\n",
    "bnb = BernoulliNB()"
   ]
  },
  {
   "cell_type": "code",
   "execution_count": 70,
   "id": "b9af57fc",
   "metadata": {},
   "outputs": [
    {
     "name": "stdout",
     "output_type": "stream",
     "text": [
      "0.8695652173913043\n",
      "[[748  99]\n",
      " [ 21  52]]\n",
      "0.3443708609271523\n"
     ]
    }
   ],
   "source": [
    "gnb.fit(X_train,y_train)\n",
    "y_pred1 = gnb.predict(X_test)\n",
    "print(accuracy_score(y_test,y_pred1))\n",
    "print(confusion_matrix(y_test,y_pred1))\n",
    "print(precision_score(y_test,y_pred1))"
   ]
  },
  {
   "cell_type": "code",
   "execution_count": 71,
   "id": "3a951b54",
   "metadata": {},
   "outputs": [
    {
     "name": "stdout",
     "output_type": "stream",
     "text": [
      "0.967391304347826\n",
      "[[847   0]\n",
      " [ 30  43]]\n",
      "1.0\n"
     ]
    }
   ],
   "source": [
    "mnb.fit(X_train,y_train)\n",
    "y_pred2 = mnb.predict(X_test)\n",
    "print(accuracy_score(y_test,y_pred2))\n",
    "print(confusion_matrix(y_test,y_pred2))\n",
    "print(precision_score(y_test,y_pred2))"
   ]
  },
  {
   "cell_type": "code",
   "execution_count": 72,
   "id": "f7263151",
   "metadata": {},
   "outputs": [
    {
     "name": "stdout",
     "output_type": "stream",
     "text": [
      "0.9771739130434782\n",
      "[[845   2]\n",
      " [ 19  54]]\n",
      "0.9642857142857143\n"
     ]
    }
   ],
   "source": [
    "bnb.fit(X_train,y_train)\n",
    "y_pred3 = bnb.predict(X_test)\n",
    "print(accuracy_score(y_test,y_pred3))\n",
    "print(confusion_matrix(y_test,y_pred3))\n",
    "print(precision_score(y_test,y_pred3))"
   ]
  },
  {
   "cell_type": "code",
   "execution_count": 73,
   "id": "2d6575b1",
   "metadata": {},
   "outputs": [],
   "source": [
    "#tfidf-mnb"
   ]
  },
  {
   "cell_type": "code",
   "execution_count": 74,
   "id": "3460edca",
   "metadata": {
    "scrolled": false
   },
   "outputs": [
    {
     "name": "stdout",
     "output_type": "stream",
     "text": [
      "Collecting xgboost\n",
      "  Obtaining dependency information for xgboost from https://files.pythonhosted.org/packages/70/58/2f94976df39470fb00eec2cb4f914dde44cd0df8d96483208bf7db4bc97e/xgboost-2.1.3-py3-none-win_amd64.whl.metadata\n",
      "  Downloading xgboost-2.1.3-py3-none-win_amd64.whl.metadata (2.1 kB)\n",
      "Requirement already satisfied: numpy in c:\\users\\hp\\anaconda3\\lib\\site-packages (from xgboost) (1.24.3)\n",
      "Requirement already satisfied: scipy in c:\\users\\hp\\anaconda3\\lib\\site-packages (from xgboost) (1.11.1)\n",
      "Downloading xgboost-2.1.3-py3-none-win_amd64.whl (124.9 MB)\n",
      "   ---------------------------------------- 0.0/124.9 MB ? eta -:--:--\n",
      "   ---------------------------------------- 0.0/124.9 MB ? eta -:--:--\n",
      "   ---------------------------------------- 0.0/124.9 MB ? eta -:--:--\n",
      "   ---------------------------------------- 0.0/124.9 MB 393.8 kB/s eta 0:05:18\n",
      "   ---------------------------------------- 0.1/124.9 MB 819.2 kB/s eta 0:02:33\n",
      "   ---------------------------------------- 0.4/124.9 MB 2.1 MB/s eta 0:01:00\n",
      "   ---------------------------------------- 1.1/124.9 MB 4.8 MB/s eta 0:00:26\n",
      "   ---------------------------------------- 1.2/124.9 MB 5.0 MB/s eta 0:00:25\n",
      "    --------------------------------------- 1.9/124.9 MB 5.9 MB/s eta 0:00:21\n",
      "    --------------------------------------- 2.5/124.9 MB 6.8 MB/s eta 0:00:18\n",
      "   - -------------------------------------- 3.3/124.9 MB 8.1 MB/s eta 0:00:16\n",
      "   - -------------------------------------- 3.8/124.9 MB 8.3 MB/s eta 0:00:15\n",
      "   - -------------------------------------- 4.3/124.9 MB 8.6 MB/s eta 0:00:14\n",
      "   - -------------------------------------- 4.9/124.9 MB 8.9 MB/s eta 0:00:14\n",
      "   - -------------------------------------- 5.4/124.9 MB 9.1 MB/s eta 0:00:14\n",
      "   - -------------------------------------- 5.9/124.9 MB 9.2 MB/s eta 0:00:13\n",
      "   -- ------------------------------------- 6.4/124.9 MB 9.3 MB/s eta 0:00:13\n",
      "   -- ------------------------------------- 6.9/124.9 MB 9.4 MB/s eta 0:00:13\n",
      "   -- ------------------------------------- 7.1/124.9 MB 9.1 MB/s eta 0:00:13\n",
      "   -- ------------------------------------- 7.5/124.9 MB 9.1 MB/s eta 0:00:13\n",
      "   -- ------------------------------------- 8.0/124.9 MB 9.1 MB/s eta 0:00:13\n",
      "   -- ------------------------------------- 8.5/124.9 MB 9.2 MB/s eta 0:00:13\n",
      "   -- ------------------------------------- 9.1/124.9 MB 9.4 MB/s eta 0:00:13\n",
      "   --- ------------------------------------ 9.6/124.9 MB 9.5 MB/s eta 0:00:13\n",
      "   --- ------------------------------------ 10.2/124.9 MB 9.6 MB/s eta 0:00:12\n",
      "   --- ------------------------------------ 10.7/124.9 MB 11.3 MB/s eta 0:00:11\n",
      "   --- ------------------------------------ 11.2/124.9 MB 10.9 MB/s eta 0:00:11\n",
      "   --- ------------------------------------ 11.7/124.9 MB 11.3 MB/s eta 0:00:11\n",
      "   --- ------------------------------------ 12.3/124.9 MB 11.1 MB/s eta 0:00:11\n",
      "   ---- ----------------------------------- 12.8/124.9 MB 11.1 MB/s eta 0:00:11\n",
      "   ---- ----------------------------------- 13.2/124.9 MB 10.7 MB/s eta 0:00:11\n",
      "   ---- ----------------------------------- 13.7/124.9 MB 10.6 MB/s eta 0:00:11\n",
      "   ---- ----------------------------------- 14.3/124.9 MB 10.7 MB/s eta 0:00:11\n",
      "   ---- ----------------------------------- 14.9/124.9 MB 10.7 MB/s eta 0:00:11\n",
      "   ---- ----------------------------------- 15.3/124.9 MB 10.6 MB/s eta 0:00:11\n",
      "   ----- ---------------------------------- 15.8/124.9 MB 10.6 MB/s eta 0:00:11\n",
      "   ----- ---------------------------------- 16.3/124.9 MB 10.6 MB/s eta 0:00:11\n",
      "   ----- ---------------------------------- 16.8/124.9 MB 10.7 MB/s eta 0:00:11\n",
      "   ----- ---------------------------------- 17.4/124.9 MB 10.9 MB/s eta 0:00:10\n",
      "   ----- ---------------------------------- 17.9/124.9 MB 11.1 MB/s eta 0:00:10\n",
      "   ----- ---------------------------------- 18.5/124.9 MB 11.3 MB/s eta 0:00:10\n",
      "   ------ --------------------------------- 19.1/124.9 MB 11.3 MB/s eta 0:00:10\n",
      "   ------ --------------------------------- 19.7/124.9 MB 11.3 MB/s eta 0:00:10\n",
      "   ------ --------------------------------- 20.3/124.9 MB 11.5 MB/s eta 0:00:10\n",
      "   ------ --------------------------------- 20.8/124.9 MB 11.3 MB/s eta 0:00:10\n",
      "   ------ --------------------------------- 21.4/124.9 MB 11.5 MB/s eta 0:00:10\n",
      "   ------- -------------------------------- 22.0/124.9 MB 11.7 MB/s eta 0:00:09\n",
      "   ------- -------------------------------- 22.6/124.9 MB 11.7 MB/s eta 0:00:09\n",
      "   ------- -------------------------------- 23.0/124.9 MB 11.5 MB/s eta 0:00:09\n",
      "   ------- -------------------------------- 23.6/124.9 MB 11.7 MB/s eta 0:00:09\n",
      "   ------- -------------------------------- 24.1/124.9 MB 11.7 MB/s eta 0:00:09\n",
      "   ------- -------------------------------- 24.6/124.9 MB 11.5 MB/s eta 0:00:09\n",
      "   -------- ------------------------------- 25.0/124.9 MB 11.7 MB/s eta 0:00:09\n",
      "   -------- ------------------------------- 25.4/124.9 MB 11.3 MB/s eta 0:00:09\n",
      "   -------- ------------------------------- 26.1/124.9 MB 11.5 MB/s eta 0:00:09\n",
      "   -------- ------------------------------- 26.6/124.9 MB 11.7 MB/s eta 0:00:09\n",
      "   -------- ------------------------------- 27.1/124.9 MB 11.7 MB/s eta 0:00:09\n",
      "   -------- ------------------------------- 27.6/124.9 MB 11.7 MB/s eta 0:00:09\n",
      "   --------- ------------------------------ 28.2/124.9 MB 11.5 MB/s eta 0:00:09\n",
      "   --------- ------------------------------ 28.8/124.9 MB 11.7 MB/s eta 0:00:09\n",
      "   --------- ------------------------------ 29.3/124.9 MB 11.5 MB/s eta 0:00:09\n",
      "   --------- ------------------------------ 30.0/124.9 MB 11.7 MB/s eta 0:00:09\n",
      "   --------- ------------------------------ 30.6/124.9 MB 11.7 MB/s eta 0:00:09\n",
      "   --------- ------------------------------ 31.1/124.9 MB 11.7 MB/s eta 0:00:09\n",
      "   ---------- ----------------------------- 31.6/124.9 MB 11.5 MB/s eta 0:00:09\n",
      "   ---------- ----------------------------- 32.1/124.9 MB 11.3 MB/s eta 0:00:09\n",
      "   ---------- ----------------------------- 32.5/124.9 MB 11.5 MB/s eta 0:00:09\n",
      "   ---------- ----------------------------- 32.9/124.9 MB 11.3 MB/s eta 0:00:09\n",
      "   ---------- ----------------------------- 33.4/124.9 MB 11.3 MB/s eta 0:00:09\n",
      "   ---------- ----------------------------- 33.8/124.9 MB 10.7 MB/s eta 0:00:09\n",
      "   ---------- ----------------------------- 34.3/124.9 MB 11.1 MB/s eta 0:00:09\n",
      "   ----------- ---------------------------- 34.9/124.9 MB 10.9 MB/s eta 0:00:09\n",
      "   ----------- ---------------------------- 35.5/124.9 MB 11.3 MB/s eta 0:00:08\n",
      "   ----------- ---------------------------- 36.2/124.9 MB 11.5 MB/s eta 0:00:08\n",
      "   ----------- ---------------------------- 36.8/124.9 MB 11.5 MB/s eta 0:00:08\n",
      "   ----------- ---------------------------- 37.0/124.9 MB 11.3 MB/s eta 0:00:08\n",
      "   ------------ --------------------------- 37.8/124.9 MB 11.5 MB/s eta 0:00:08\n",
      "   ------------ --------------------------- 38.3/124.9 MB 11.5 MB/s eta 0:00:08\n",
      "   ------------ --------------------------- 38.8/124.9 MB 11.5 MB/s eta 0:00:08\n",
      "   ------------ --------------------------- 39.2/124.9 MB 11.3 MB/s eta 0:00:08\n",
      "   ------------ --------------------------- 39.8/124.9 MB 11.3 MB/s eta 0:00:08\n",
      "   ------------ --------------------------- 40.3/124.9 MB 11.1 MB/s eta 0:00:08\n",
      "   ------------- -------------------------- 40.7/124.9 MB 10.9 MB/s eta 0:00:08\n",
      "   ------------- -------------------------- 41.3/124.9 MB 10.9 MB/s eta 0:00:08\n",
      "   ------------- -------------------------- 41.8/124.9 MB 11.1 MB/s eta 0:00:08\n",
      "   ------------- -------------------------- 42.3/124.9 MB 11.1 MB/s eta 0:00:08\n",
      "   ------------- -------------------------- 42.9/124.9 MB 11.3 MB/s eta 0:00:08\n",
      "   ------------- -------------------------- 43.3/124.9 MB 11.3 MB/s eta 0:00:08\n",
      "   -------------- ------------------------- 43.8/124.9 MB 11.3 MB/s eta 0:00:08\n",
      "   -------------- ------------------------- 44.4/124.9 MB 11.5 MB/s eta 0:00:08\n",
      "   -------------- ------------------------- 45.0/124.9 MB 11.5 MB/s eta 0:00:07\n",
      "   -------------- ------------------------- 45.5/124.9 MB 11.3 MB/s eta 0:00:08\n",
      "   -------------- ------------------------- 46.1/124.9 MB 11.3 MB/s eta 0:00:07\n",
      "   -------------- ------------------------- 46.7/124.9 MB 11.3 MB/s eta 0:00:07\n",
      "   --------------- ------------------------ 47.2/124.9 MB 11.5 MB/s eta 0:00:07\n",
      "   --------------- ------------------------ 47.8/124.9 MB 11.3 MB/s eta 0:00:07\n",
      "   --------------- ------------------------ 48.3/124.9 MB 11.3 MB/s eta 0:00:07\n",
      "   --------------- ------------------------ 48.9/124.9 MB 11.3 MB/s eta 0:00:07\n",
      "   --------------- ------------------------ 49.5/124.9 MB 11.5 MB/s eta 0:00:07\n",
      "   ---------------- ----------------------- 50.0/124.9 MB 11.7 MB/s eta 0:00:07\n",
      "   ---------------- ----------------------- 50.6/124.9 MB 11.7 MB/s eta 0:00:07\n",
      "   ---------------- ----------------------- 51.2/124.9 MB 11.9 MB/s eta 0:00:07\n",
      "   ---------------- ----------------------- 51.8/124.9 MB 11.9 MB/s eta 0:00:07\n",
      "   ---------------- ----------------------- 52.4/124.9 MB 11.9 MB/s eta 0:00:07\n",
      "   ---------------- ----------------------- 52.9/124.9 MB 11.9 MB/s eta 0:00:07\n",
      "   ----------------- ---------------------- 53.5/124.9 MB 12.1 MB/s eta 0:00:06\n",
      "   ----------------- ---------------------- 54.0/124.9 MB 12.1 MB/s eta 0:00:06\n",
      "   ----------------- ---------------------- 54.6/124.9 MB 12.4 MB/s eta 0:00:06\n",
      "   ----------------- ---------------------- 55.2/124.9 MB 12.1 MB/s eta 0:00:06\n",
      "   ----------------- ---------------------- 55.7/124.9 MB 12.1 MB/s eta 0:00:06\n",
      "   ------------------ --------------------- 56.3/124.9 MB 12.1 MB/s eta 0:00:06\n",
      "   ------------------ --------------------- 56.8/124.9 MB 12.1 MB/s eta 0:00:06\n",
      "   ------------------ --------------------- 57.4/124.9 MB 11.9 MB/s eta 0:00:06\n",
      "   ------------------ --------------------- 58.0/124.9 MB 12.1 MB/s eta 0:00:06\n",
      "   ------------------ --------------------- 58.5/124.9 MB 12.1 MB/s eta 0:00:06\n",
      "   ------------------ --------------------- 59.1/124.9 MB 12.4 MB/s eta 0:00:06\n",
      "   ------------------- -------------------- 59.6/124.9 MB 12.1 MB/s eta 0:00:06\n",
      "   ------------------- -------------------- 60.1/124.9 MB 11.9 MB/s eta 0:00:06\n",
      "   ------------------- -------------------- 60.8/124.9 MB 12.1 MB/s eta 0:00:06\n",
      "   ------------------- -------------------- 61.3/124.9 MB 11.9 MB/s eta 0:00:06\n",
      "   ------------------- -------------------- 61.9/124.9 MB 12.1 MB/s eta 0:00:06\n",
      "   -------------------- ------------------- 62.5/124.9 MB 12.1 MB/s eta 0:00:06\n",
      "   -------------------- ------------------- 63.0/124.9 MB 11.9 MB/s eta 0:00:06\n",
      "   -------------------- ------------------- 63.6/124.9 MB 11.9 MB/s eta 0:00:06\n",
      "   -------------------- ------------------- 64.2/124.9 MB 11.9 MB/s eta 0:00:06\n",
      "   -------------------- ------------------- 64.7/124.9 MB 11.9 MB/s eta 0:00:06\n",
      "   -------------------- ------------------- 65.2/124.9 MB 12.1 MB/s eta 0:00:05\n",
      "   --------------------- ------------------ 65.7/124.9 MB 12.1 MB/s eta 0:00:05\n",
      "   --------------------- ------------------ 66.2/124.9 MB 11.7 MB/s eta 0:00:06\n",
      "   --------------------- ------------------ 66.7/124.9 MB 11.9 MB/s eta 0:00:05\n",
      "   --------------------- ------------------ 67.1/124.9 MB 11.5 MB/s eta 0:00:06\n",
      "   --------------------- ------------------ 67.7/124.9 MB 11.5 MB/s eta 0:00:05\n",
      "   --------------------- ------------------ 68.4/124.9 MB 11.7 MB/s eta 0:00:05\n",
      "   ---------------------- ----------------- 69.0/124.9 MB 11.7 MB/s eta 0:00:05\n",
      "   ---------------------- ----------------- 69.5/124.9 MB 11.5 MB/s eta 0:00:05\n",
      "   ---------------------- ----------------- 70.0/124.9 MB 11.5 MB/s eta 0:00:05\n",
      "   ---------------------- ----------------- 70.5/124.9 MB 11.5 MB/s eta 0:00:05\n",
      "   ---------------------- ----------------- 71.0/124.9 MB 11.3 MB/s eta 0:00:05\n",
      "   ---------------------- ----------------- 71.5/124.9 MB 11.5 MB/s eta 0:00:05\n",
      "   ----------------------- ---------------- 72.1/124.9 MB 11.3 MB/s eta 0:00:05\n",
      "   ----------------------- ---------------- 72.6/124.9 MB 11.5 MB/s eta 0:00:05\n",
      "   ----------------------- ---------------- 73.1/124.9 MB 11.3 MB/s eta 0:00:05\n",
      "   ----------------------- ---------------- 73.6/124.9 MB 11.5 MB/s eta 0:00:05\n",
      "   ----------------------- ---------------- 74.0/124.9 MB 11.3 MB/s eta 0:00:05\n",
      "   ----------------------- ---------------- 74.6/124.9 MB 11.1 MB/s eta 0:00:05\n",
      "   ------------------------ --------------- 75.2/124.9 MB 11.3 MB/s eta 0:00:05\n",
      "   ------------------------ --------------- 75.7/124.9 MB 11.5 MB/s eta 0:00:05\n",
      "   ------------------------ --------------- 76.2/124.9 MB 11.3 MB/s eta 0:00:05\n",
      "   ------------------------ --------------- 76.7/124.9 MB 11.3 MB/s eta 0:00:05\n",
      "   ------------------------ --------------- 77.3/124.9 MB 11.5 MB/s eta 0:00:05\n",
      "   ------------------------ --------------- 78.0/124.9 MB 11.5 MB/s eta 0:00:05\n",
      "   ------------------------- -------------- 78.4/124.9 MB 11.5 MB/s eta 0:00:05\n",
      "   ------------------------- -------------- 78.9/124.9 MB 11.3 MB/s eta 0:00:05\n",
      "   ------------------------- -------------- 79.3/124.9 MB 11.1 MB/s eta 0:00:05\n",
      "   ------------------------- -------------- 79.6/124.9 MB 10.9 MB/s eta 0:00:05\n",
      "   ------------------------- -------------- 79.7/124.9 MB 10.6 MB/s eta 0:00:05\n",
      "   ------------------------- -------------- 80.0/124.9 MB 10.4 MB/s eta 0:00:05\n",
      "   ------------------------- -------------- 80.4/124.9 MB 10.2 MB/s eta 0:00:05\n",
      "   ------------------------- -------------- 80.7/124.9 MB 10.1 MB/s eta 0:00:05\n",
      "   -------------------------- ------------- 81.3/124.9 MB 10.1 MB/s eta 0:00:05\n",
      "   -------------------------- ------------- 81.8/124.9 MB 9.9 MB/s eta 0:00:05\n",
      "   -------------------------- ------------- 82.5/124.9 MB 10.1 MB/s eta 0:00:05\n",
      "   -------------------------- ------------- 83.2/124.9 MB 10.4 MB/s eta 0:00:05\n",
      "   -------------------------- ------------- 83.5/124.9 MB 10.2 MB/s eta 0:00:05\n",
      "   -------------------------- ------------- 84.3/124.9 MB 10.4 MB/s eta 0:00:04\n",
      "   --------------------------- ------------ 84.8/124.9 MB 10.4 MB/s eta 0:00:04\n",
      "   --------------------------- ------------ 85.3/124.9 MB 10.4 MB/s eta 0:00:04\n",
      "   --------------------------- ------------ 85.9/124.9 MB 10.4 MB/s eta 0:00:04\n",
      "   --------------------------- ------------ 86.4/124.9 MB 10.4 MB/s eta 0:00:04\n",
      "   --------------------------- ------------ 87.0/124.9 MB 10.6 MB/s eta 0:00:04\n",
      "   ---------------------------- ----------- 87.6/124.9 MB 10.4 MB/s eta 0:00:04\n",
      "   ---------------------------- ----------- 88.1/124.9 MB 10.6 MB/s eta 0:00:04\n",
      "   ---------------------------- ----------- 88.6/124.9 MB 10.6 MB/s eta 0:00:04\n",
      "   ---------------------------- ----------- 89.2/124.9 MB 10.6 MB/s eta 0:00:04\n",
      "   ---------------------------- ----------- 89.8/124.9 MB 11.5 MB/s eta 0:00:04\n",
      "   ---------------------------- ----------- 90.4/124.9 MB 11.9 MB/s eta 0:00:03\n",
      "   ----------------------------- ---------- 90.9/124.9 MB 12.1 MB/s eta 0:00:03\n",
      "   ----------------------------- ---------- 91.5/124.9 MB 12.1 MB/s eta 0:00:03\n",
      "   ----------------------------- ---------- 92.0/124.9 MB 12.4 MB/s eta 0:00:03\n",
      "   ----------------------------- ---------- 92.7/124.9 MB 12.1 MB/s eta 0:00:03\n",
      "   ----------------------------- ---------- 93.3/124.9 MB 12.1 MB/s eta 0:00:03\n",
      "   ------------------------------ --------- 93.9/124.9 MB 12.4 MB/s eta 0:00:03\n",
      "   ------------------------------ --------- 94.4/124.9 MB 12.1 MB/s eta 0:00:03\n",
      "   ------------------------------ --------- 95.0/124.9 MB 12.1 MB/s eta 0:00:03\n",
      "   ------------------------------ --------- 95.6/124.9 MB 12.4 MB/s eta 0:00:03\n",
      "   ------------------------------ --------- 96.1/124.9 MB 12.4 MB/s eta 0:00:03\n",
      "   ------------------------------ --------- 96.7/124.9 MB 12.4 MB/s eta 0:00:03\n",
      "   ------------------------------- -------- 97.3/124.9 MB 12.3 MB/s eta 0:00:03\n",
      "   ------------------------------- -------- 97.9/124.9 MB 12.4 MB/s eta 0:00:03\n",
      "   ------------------------------- -------- 98.4/124.9 MB 12.4 MB/s eta 0:00:03\n",
      "   ------------------------------- -------- 98.9/124.9 MB 12.4 MB/s eta 0:00:03\n",
      "   ------------------------------- -------- 99.5/124.9 MB 12.4 MB/s eta 0:00:03\n",
      "   ------------------------------- ------- 100.1/124.9 MB 12.4 MB/s eta 0:00:03\n",
      "   ------------------------------- ------- 100.7/124.9 MB 12.4 MB/s eta 0:00:02\n",
      "   ------------------------------- ------- 101.2/124.9 MB 12.4 MB/s eta 0:00:02\n",
      "   ------------------------------- ------- 101.8/124.9 MB 12.3 MB/s eta 0:00:02\n",
      "   ------------------------------- ------- 102.3/124.9 MB 12.4 MB/s eta 0:00:02\n",
      "   -------------------------------- ------ 102.9/124.9 MB 12.4 MB/s eta 0:00:02\n",
      "   -------------------------------- ------ 103.5/124.9 MB 12.1 MB/s eta 0:00:02\n",
      "   -------------------------------- ------ 104.1/124.9 MB 12.1 MB/s eta 0:00:02\n",
      "   -------------------------------- ------ 104.6/124.9 MB 12.1 MB/s eta 0:00:02\n",
      "   -------------------------------- ------ 105.2/124.9 MB 12.1 MB/s eta 0:00:02\n",
      "   --------------------------------- ----- 105.8/124.9 MB 12.1 MB/s eta 0:00:02\n",
      "   --------------------------------- ----- 106.4/124.9 MB 12.1 MB/s eta 0:00:02\n",
      "   --------------------------------- ----- 106.9/124.9 MB 12.1 MB/s eta 0:00:02\n",
      "   --------------------------------- ----- 107.5/124.9 MB 12.1 MB/s eta 0:00:02\n",
      "   --------------------------------- ----- 108.0/124.9 MB 12.1 MB/s eta 0:00:02\n",
      "   --------------------------------- ----- 108.8/124.9 MB 12.1 MB/s eta 0:00:02\n",
      "   ---------------------------------- ---- 109.3/124.9 MB 12.1 MB/s eta 0:00:02\n",
      "   ---------------------------------- ---- 109.9/124.9 MB 12.1 MB/s eta 0:00:02\n",
      "   ---------------------------------- ---- 110.5/124.9 MB 12.1 MB/s eta 0:00:02\n",
      "   ---------------------------------- ---- 111.1/124.9 MB 12.1 MB/s eta 0:00:02\n",
      "   ---------------------------------- ---- 111.4/124.9 MB 12.1 MB/s eta 0:00:02\n",
      "   ----------------------------------- --- 112.1/124.9 MB 12.1 MB/s eta 0:00:02\n",
      "   ----------------------------------- --- 112.6/124.9 MB 12.1 MB/s eta 0:00:02\n",
      "   ----------------------------------- --- 113.1/124.9 MB 11.9 MB/s eta 0:00:01\n",
      "   ----------------------------------- --- 113.7/124.9 MB 11.9 MB/s eta 0:00:01\n",
      "   ----------------------------------- --- 114.2/124.9 MB 11.7 MB/s eta 0:00:01\n",
      "   ----------------------------------- --- 114.7/124.9 MB 11.7 MB/s eta 0:00:01\n",
      "   ----------------------------------- --- 115.2/124.9 MB 11.7 MB/s eta 0:00:01\n",
      "   ------------------------------------ -- 115.8/124.9 MB 11.7 MB/s eta 0:00:01\n",
      "   ------------------------------------ -- 116.3/124.9 MB 11.7 MB/s eta 0:00:01\n",
      "   ------------------------------------ -- 116.8/124.9 MB 11.5 MB/s eta 0:00:01\n",
      "   ------------------------------------ -- 117.3/124.9 MB 11.5 MB/s eta 0:00:01\n",
      "   ------------------------------------ -- 117.9/124.9 MB 11.5 MB/s eta 0:00:01\n",
      "   ------------------------------------ -- 118.4/124.9 MB 11.5 MB/s eta 0:00:01\n",
      "   ------------------------------------- - 119.0/124.9 MB 11.5 MB/s eta 0:00:01\n",
      "   ------------------------------------- - 119.5/124.9 MB 11.5 MB/s eta 0:00:01\n",
      "   ------------------------------------- - 120.1/124.9 MB 11.3 MB/s eta 0:00:01\n",
      "   ------------------------------------- - 120.6/124.9 MB 11.3 MB/s eta 0:00:01\n",
      "   ------------------------------------- - 121.1/124.9 MB 11.5 MB/s eta 0:00:01\n",
      "   ------------------------------------- - 121.6/124.9 MB 11.5 MB/s eta 0:00:01\n",
      "   --------------------------------------  122.2/124.9 MB 11.3 MB/s eta 0:00:01\n",
      "   --------------------------------------  122.7/124.9 MB 11.5 MB/s eta 0:00:01\n",
      "   --------------------------------------  123.2/124.9 MB 11.5 MB/s eta 0:00:01\n",
      "   --------------------------------------  123.7/124.9 MB 11.5 MB/s eta 0:00:01\n",
      "   --------------------------------------  124.1/124.9 MB 11.1 MB/s eta 0:00:01\n",
      "   --------------------------------------  124.4/124.9 MB 11.1 MB/s eta 0:00:01\n",
      "   --------------------------------------  124.9/124.9 MB 11.1 MB/s eta 0:00:01\n",
      "   --------------------------------------  124.9/124.9 MB 11.1 MB/s eta 0:00:01\n",
      "   --------------------------------------  124.9/124.9 MB 11.1 MB/s eta 0:00:01\n",
      "   --------------------------------------  124.9/124.9 MB 11.1 MB/s eta 0:00:01\n",
      "   --------------------------------------  124.9/124.9 MB 11.1 MB/s eta 0:00:01\n",
      "   --------------------------------------  124.9/124.9 MB 11.1 MB/s eta 0:00:01\n",
      "   --------------------------------------  124.9/124.9 MB 11.1 MB/s eta 0:00:01\n",
      "   --------------------------------------  124.9/124.9 MB 11.1 MB/s eta 0:00:01\n",
      "   ---------------------------------------- 124.9/124.9 MB 6.7 MB/s eta 0:00:00\n",
      "Installing collected packages: xgboost\n",
      "Successfully installed xgboost-2.1.3\n"
     ]
    }
   ],
   "source": [
    "!pip install xgboost"
   ]
  },
  {
   "cell_type": "code",
   "execution_count": 75,
   "id": "80051164",
   "metadata": {},
   "outputs": [],
   "source": [
    "from sklearn.linear_model import LogisticRegression\n",
    "from sklearn.svm import SVC\n",
    "from sklearn.naive_bayes import MultinomialNB\n",
    "from sklearn.tree import DecisionTreeClassifier\n",
    "from sklearn.neighbors import KNeighborsClassifier\n",
    "from sklearn.ensemble import RandomForestClassifier\n",
    "from sklearn.ensemble import AdaBoostClassifier\n",
    "from sklearn.ensemble import BaggingClassifier\n",
    "from sklearn.ensemble import ExtraTreesClassifier\n",
    "from sklearn.ensemble import GradientBoostingClassifier\n",
    "from xgboost import XGBClassifier"
   ]
  },
  {
   "cell_type": "code",
   "execution_count": 76,
   "id": "d12b6f6d",
   "metadata": {},
   "outputs": [],
   "source": [
    "svc = SVC(kernel='sigmoid', gamma=1.0)\n",
    "knc = KNeighborsClassifier()\n",
    "mnb = MultinomialNB()\n",
    "dtc = DecisionTreeClassifier(max_depth=5)\n",
    "lrc = LogisticRegression(solver='liblinear', penalty='l1')\n",
    "rfc = RandomForestClassifier(n_estimators=50, random_state=2)\n",
    "abc = AdaBoostClassifier(n_estimators=50, random_state=2)\n",
    "bc = BaggingClassifier(n_estimators=50, random_state=2)\n",
    "etc = ExtraTreesClassifier(n_estimators=50, random_state=2)\n",
    "gbdt = GradientBoostingClassifier(n_estimators=50,random_state=2)\n",
    "xgb = XGBClassifier(n_estimators=50,random_state=2)"
   ]
  },
  {
   "cell_type": "code",
   "execution_count": 77,
   "id": "8d83cee9",
   "metadata": {},
   "outputs": [],
   "source": [
    "clfs = {\n",
    "    'SVC' : svc,\n",
    "    'KN' : knc, \n",
    "    'NB': mnb, \n",
    "    'DT': dtc, \n",
    "    'LR': lrc, \n",
    "    'RF': rfc, \n",
    "    'AdaBoost': abc, \n",
    "    'BgC': bc, \n",
    "    'ETC': etc,\n",
    "    'GBDT':gbdt,\n",
    "    'xgb':xgb\n",
    "}"
   ]
  },
  {
   "cell_type": "code",
   "execution_count": 78,
   "id": "f71ede9e",
   "metadata": {},
   "outputs": [],
   "source": [
    "def train_classifier(clf,X_train,y_train,X_test,y_test):\n",
    "    clf.fit(X_train,y_train)\n",
    "    y_pred = clf.predict(X_test)\n",
    "    accuracy = accuracy_score(y_test,y_pred)\n",
    "    precision = precision_score(y_test,y_pred)\n",
    "    \n",
    "    return accuracy,precision"
   ]
  },
  {
   "cell_type": "code",
   "execution_count": 79,
   "id": "c10ed14d",
   "metadata": {},
   "outputs": [
    {
     "data": {
      "text/plain": [
       "(0.9760869565217392, 0.9811320754716981)"
      ]
     },
     "execution_count": 79,
     "metadata": {},
     "output_type": "execute_result"
    }
   ],
   "source": [
    "train_classifier(svc,X_train,y_train,X_test,y_test)"
   ]
  },
  {
   "cell_type": "code",
   "execution_count": null,
   "id": "b7441c36",
   "metadata": {},
   "outputs": [],
   "source": [
    "accuracy_scores = []\n",
    "precision_scores = []\n",
    "\n",
    "for name,clf in clfs.items():\n",
    "    \n",
    "    current_accuracy,current_precision = train_classifier(clf, X_train,y_train,X_test,y_test)\n",
    "    \n",
    "    print(\"For \",name)\n",
    "    print(\"Accuracy - \",current_accuracy)\n",
    "    print(\"Precision - \",current_precision)\n",
    "    \n",
    "    accuracy_scores.append(current_accuracy)\n",
    "    precision_scores.append(current_precision)"
   ]
  },
  {
   "cell_type": "code",
   "execution_count": null,
   "id": "61936e65",
   "metadata": {},
   "outputs": [],
   "source": [
    "performance_df = pd.DataFrame({'Algorithm':clfs.keys(),'Accuracy':accuracy_scores,'Precision':precision_scores})"
   ]
  },
  {
   "cell_type": "code",
   "execution_count": null,
   "id": "271a1b5f",
   "metadata": {},
   "outputs": [],
   "source": [
    "performance_df"
   ]
  },
  {
   "cell_type": "code",
   "execution_count": null,
   "id": "833600bc",
   "metadata": {},
   "outputs": [],
   "source": [
    "performance_df1 = pd.melt(performance_df, id_vars = \"Algorithm\")"
   ]
  },
  {
   "cell_type": "code",
   "execution_count": null,
   "id": "b20c970a",
   "metadata": {},
   "outputs": [],
   "source": [
    "performance_df1"
   ]
  },
  {
   "cell_type": "code",
   "execution_count": null,
   "id": "dc73653e",
   "metadata": {},
   "outputs": [],
   "source": [
    "sns.catplot(x = 'Algorithm', y='value', \n",
    "hue = 'variable',data=performance_df1, kind='bar',height=5)\n",
    "plt.ylim(0.5,1.0)\n",
    "plt.xticks(rotation='vertical')\n",
    "plt.show()"
   ]
  },
  {
   "cell_type": "code",
   "execution_count": null,
   "id": "7e77c3b4",
   "metadata": {},
   "outputs": [],
   "source": [
    "# Voting Classifier\n",
    "svc = SVC(kernel='sigmoid', gamma=1.0,probability=True)\n",
    "mnb = MultinomialNB()\n",
    "etc = ExtraTreesClassifier(n_estimators=50, random_state=2)\n",
    "\n",
    "from sklearn.ensemble import VotingClassifier"
   ]
  },
  {
   "cell_type": "code",
   "execution_count": null,
   "id": "e980b5d9",
   "metadata": {},
   "outputs": [],
   "source": [
    "voting = VotingClassifier(estimators=[('svm', svc), ('nb', mnb), ('et', etc)],voting='soft')"
   ]
  },
  {
   "cell_type": "code",
   "execution_count": null,
   "id": "cc60f317",
   "metadata": {},
   "outputs": [],
   "source": [
    "voting.fit(X_train,y_train)"
   ]
  },
  {
   "cell_type": "code",
   "execution_count": null,
   "id": "124a9b6a",
   "metadata": {},
   "outputs": [],
   "source": [
    "import pickle\n",
    "pickle.dump(tfidf,open('vectorizer.pkl','wb'))\n",
    "pickle.dump(mnb,open('model.pkl','wb'))"
   ]
  }
 ],
 "metadata": {
  "kernelspec": {
   "display_name": "Python 3 (ipykernel)",
   "language": "python",
   "name": "python3"
  },
  "language_info": {
   "codemirror_mode": {
    "name": "ipython",
    "version": 3
   },
   "file_extension": ".py",
   "mimetype": "text/x-python",
   "name": "python",
   "nbconvert_exporter": "python",
   "pygments_lexer": "ipython3",
   "version": "3.11.5"
  }
 },
 "nbformat": 4,
 "nbformat_minor": 5
}
